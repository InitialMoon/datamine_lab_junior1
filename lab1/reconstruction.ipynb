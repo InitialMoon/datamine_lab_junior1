{
 "cells": [
  {
   "cell_type": "markdown",
   "id": "2178be35",
   "metadata": {},
   "source": [
    "# 数据准备"
   ]
  },
  {
   "cell_type": "code",
   "execution_count": 1,
   "id": "06867142",
   "metadata": {},
   "outputs": [
    {
     "data": {
      "text/html": [
       "<div>\n",
       "<style scoped>\n",
       "    .dataframe tbody tr th:only-of-type {\n",
       "        vertical-align: middle;\n",
       "    }\n",
       "\n",
       "    .dataframe tbody tr th {\n",
       "        vertical-align: top;\n",
       "    }\n",
       "\n",
       "    .dataframe thead th {\n",
       "        text-align: right;\n",
       "    }\n",
       "</style>\n",
       "<table border=\"1\" class=\"dataframe\">\n",
       "  <thead>\n",
       "    <tr style=\"text-align: right;\">\n",
       "      <th></th>\n",
       "      <th>customerID</th>\n",
       "      <th>gender</th>\n",
       "      <th>SeniorCitizen</th>\n",
       "      <th>Partner</th>\n",
       "      <th>Dependents</th>\n",
       "      <th>tenure</th>\n",
       "      <th>PhoneService</th>\n",
       "      <th>MultipleLines</th>\n",
       "      <th>InternetService</th>\n",
       "      <th>OnlineSecurity</th>\n",
       "      <th>...</th>\n",
       "      <th>DeviceProtection</th>\n",
       "      <th>TechSupport</th>\n",
       "      <th>StreamingTV</th>\n",
       "      <th>StreamingMovies</th>\n",
       "      <th>Contract</th>\n",
       "      <th>PaperlessBilling</th>\n",
       "      <th>PaymentMethod</th>\n",
       "      <th>MonthlyCharges</th>\n",
       "      <th>TotalCharges</th>\n",
       "      <th>Churn</th>\n",
       "    </tr>\n",
       "  </thead>\n",
       "  <tbody>\n",
       "    <tr>\n",
       "      <th>0</th>\n",
       "      <td>7590-VHVEG</td>\n",
       "      <td>Female</td>\n",
       "      <td>0</td>\n",
       "      <td>Yes</td>\n",
       "      <td>No</td>\n",
       "      <td>1</td>\n",
       "      <td>No</td>\n",
       "      <td>No phone service</td>\n",
       "      <td>DSL</td>\n",
       "      <td>No</td>\n",
       "      <td>...</td>\n",
       "      <td>No</td>\n",
       "      <td>No</td>\n",
       "      <td>No</td>\n",
       "      <td>No</td>\n",
       "      <td>Month-to-month</td>\n",
       "      <td>Yes</td>\n",
       "      <td>Electronic check</td>\n",
       "      <td>29.85</td>\n",
       "      <td>29.85</td>\n",
       "      <td>No</td>\n",
       "    </tr>\n",
       "    <tr>\n",
       "      <th>1</th>\n",
       "      <td>5575-GNVDE</td>\n",
       "      <td>Male</td>\n",
       "      <td>0</td>\n",
       "      <td>No</td>\n",
       "      <td>No</td>\n",
       "      <td>34</td>\n",
       "      <td>Yes</td>\n",
       "      <td>No</td>\n",
       "      <td>DSL</td>\n",
       "      <td>Yes</td>\n",
       "      <td>...</td>\n",
       "      <td>Yes</td>\n",
       "      <td>No</td>\n",
       "      <td>No</td>\n",
       "      <td>No</td>\n",
       "      <td>One year</td>\n",
       "      <td>No</td>\n",
       "      <td>Mailed check</td>\n",
       "      <td>56.95</td>\n",
       "      <td>1889.5</td>\n",
       "      <td>No</td>\n",
       "    </tr>\n",
       "    <tr>\n",
       "      <th>2</th>\n",
       "      <td>3668-QPYBK</td>\n",
       "      <td>Male</td>\n",
       "      <td>0</td>\n",
       "      <td>No</td>\n",
       "      <td>No</td>\n",
       "      <td>2</td>\n",
       "      <td>Yes</td>\n",
       "      <td>No</td>\n",
       "      <td>DSL</td>\n",
       "      <td>Yes</td>\n",
       "      <td>...</td>\n",
       "      <td>No</td>\n",
       "      <td>No</td>\n",
       "      <td>No</td>\n",
       "      <td>No</td>\n",
       "      <td>Month-to-month</td>\n",
       "      <td>Yes</td>\n",
       "      <td>Mailed check</td>\n",
       "      <td>53.85</td>\n",
       "      <td>108.15</td>\n",
       "      <td>Yes</td>\n",
       "    </tr>\n",
       "    <tr>\n",
       "      <th>3</th>\n",
       "      <td>7795-CFOCW</td>\n",
       "      <td>Male</td>\n",
       "      <td>0</td>\n",
       "      <td>No</td>\n",
       "      <td>No</td>\n",
       "      <td>45</td>\n",
       "      <td>No</td>\n",
       "      <td>No phone service</td>\n",
       "      <td>DSL</td>\n",
       "      <td>Yes</td>\n",
       "      <td>...</td>\n",
       "      <td>Yes</td>\n",
       "      <td>Yes</td>\n",
       "      <td>No</td>\n",
       "      <td>No</td>\n",
       "      <td>One year</td>\n",
       "      <td>No</td>\n",
       "      <td>Bank transfer (automatic)</td>\n",
       "      <td>42.30</td>\n",
       "      <td>1840.75</td>\n",
       "      <td>No</td>\n",
       "    </tr>\n",
       "    <tr>\n",
       "      <th>4</th>\n",
       "      <td>9237-HQITU</td>\n",
       "      <td>Female</td>\n",
       "      <td>0</td>\n",
       "      <td>No</td>\n",
       "      <td>No</td>\n",
       "      <td>2</td>\n",
       "      <td>Yes</td>\n",
       "      <td>No</td>\n",
       "      <td>Fiber optic</td>\n",
       "      <td>No</td>\n",
       "      <td>...</td>\n",
       "      <td>No</td>\n",
       "      <td>No</td>\n",
       "      <td>No</td>\n",
       "      <td>No</td>\n",
       "      <td>Month-to-month</td>\n",
       "      <td>Yes</td>\n",
       "      <td>Electronic check</td>\n",
       "      <td>70.70</td>\n",
       "      <td>151.65</td>\n",
       "      <td>Yes</td>\n",
       "    </tr>\n",
       "  </tbody>\n",
       "</table>\n",
       "<p>5 rows × 21 columns</p>\n",
       "</div>"
      ],
      "text/plain": [
       "   customerID  gender  SeniorCitizen Partner Dependents  tenure PhoneService  \\\n",
       "0  7590-VHVEG  Female              0     Yes         No       1           No   \n",
       "1  5575-GNVDE    Male              0      No         No      34          Yes   \n",
       "2  3668-QPYBK    Male              0      No         No       2          Yes   \n",
       "3  7795-CFOCW    Male              0      No         No      45           No   \n",
       "4  9237-HQITU  Female              0      No         No       2          Yes   \n",
       "\n",
       "      MultipleLines InternetService OnlineSecurity  ... DeviceProtection  \\\n",
       "0  No phone service             DSL             No  ...               No   \n",
       "1                No             DSL            Yes  ...              Yes   \n",
       "2                No             DSL            Yes  ...               No   \n",
       "3  No phone service             DSL            Yes  ...              Yes   \n",
       "4                No     Fiber optic             No  ...               No   \n",
       "\n",
       "  TechSupport StreamingTV StreamingMovies        Contract PaperlessBilling  \\\n",
       "0          No          No              No  Month-to-month              Yes   \n",
       "1          No          No              No        One year               No   \n",
       "2          No          No              No  Month-to-month              Yes   \n",
       "3         Yes          No              No        One year               No   \n",
       "4          No          No              No  Month-to-month              Yes   \n",
       "\n",
       "               PaymentMethod MonthlyCharges  TotalCharges Churn  \n",
       "0           Electronic check          29.85         29.85    No  \n",
       "1               Mailed check          56.95        1889.5    No  \n",
       "2               Mailed check          53.85        108.15   Yes  \n",
       "3  Bank transfer (automatic)          42.30       1840.75    No  \n",
       "4           Electronic check          70.70        151.65   Yes  \n",
       "\n",
       "[5 rows x 21 columns]"
      ]
     },
     "execution_count": 1,
     "metadata": {},
     "output_type": "execute_result"
    }
   ],
   "source": [
    "# 数据处理\n",
    "import numpy as np\n",
    "import pandas as pd\n",
    "\n",
    "# 读入数据集\n",
    "\n",
    "df = pd.read_csv('./Telco-Customer-Churn.csv')\n",
    "\n",
    "df.head()"
   ]
  },
  {
   "cell_type": "code",
   "execution_count": 2,
   "id": "300f0c13",
   "metadata": {},
   "outputs": [],
   "source": [
    "# 数据初步清洗\n",
    "# 首先进行初步的数据清洗工作，包含错误值和异常值处理，并划分类别型和数值型字段类型，其中清洗部分包含：MultipleLines、OnlineSecurity、OnlineBackup、DeviceProtection、TechSupport、StreamingTV、StreamingMovies：错误值处理 TotalCharges：异常值处理 tenure：自定义分箱\n",
    "# 错误值处理,这里不感兴趣直接被处理成了No\n",
    "repl_columns = [ 'OnlineSecurity', 'OnlineBackup', 'DeviceProtection','TechSupport', 'StreamingTV', 'StreamingMovies']\n",
    "for i in repl_columns:\n",
    "    df[i] = df[i].replace({ 'No internet service': 'No'})\n",
    "df['MultipleLines'] = df['MultipleLines'].replace({'No phone service': 'No'})\n",
    "\n",
    "# 替换值SeniorCitizen\n",
    "df[\"SeniorCitizen\"] = df[\"SeniorCitizen\"].replace({1: \"Yes\", 0: \"No\"}) \n",
    "\n",
    "# 替换值TotalCharges\n",
    "df[ 'TotalCharges'] = df[ 'TotalCharges'].replace( ' ', np.nan)\n",
    "# TotalCharges空值：数据量小，直接删除\n",
    "df = df.dropna(subset=[ 'TotalCharges'])\n",
    "df.reset_index(drop= True, inplace= True) # 重置索引"
   ]
  },
  {
   "cell_type": "code",
   "execution_count": 3,
   "id": "bc3b35e5",
   "metadata": {},
   "outputs": [
    {
     "data": {
      "text/plain": [
       "<Axes: >"
      ]
     },
     "execution_count": 3,
     "metadata": {},
     "output_type": "execute_result"
    },
    {
     "data": {
      "image/png": "[encoded data removed]",
      "text/plain": [
       "<Figure size 640x480 with 1 Axes>"
      ]
     },
     "metadata": {},
     "output_type": "display_data"
    }
   ],
   "source": [
    "# improve explore\n",
    "# 绘制直方图\n",
    "df['tenure'].hist()"
   ]
  },
  {
   "cell_type": "code",
   "execution_count": 4,
   "id": "4df33bc0",
   "metadata": {},
   "outputs": [
    {
     "name": "stdout",
     "output_type": "stream",
     "text": [
      "类别型字段：n ['gender', 'SeniorCitizen', 'Partner', 'Dependents', 'PhoneService', 'MultipleLines', 'InternetService', 'OnlineSecurity', 'OnlineBackup', 'DeviceProtection', 'TechSupport', 'StreamingTV', 'StreamingMovies', 'Contract', 'PaperlessBilling', 'PaymentMethod', 'Churn', 'tenure_group']\n",
      "------------------------------\n",
      "数值型字段：n ['tenure', 'MonthlyCharges', 'TotalCharges']\n"
     ]
    }
   ],
   "source": [
    "# 转换数据类型\n",
    "\n",
    "\"\"\"\n",
    "TODO 这里可以用聚类来进行分裂点划分，或者用学习什么的都行，是一个可以改良的点\n",
    "\"\"\"\n",
    "\n",
    "df[ 'TotalCharges'] = df[ 'TotalCharges'].astype( 'float')\n",
    "\n",
    "# 转换tenure\n",
    "def transform_tenure(x):\n",
    "    if x <= 12:\n",
    "        return('Tenure_1')\n",
    "    elif x <= 24:\n",
    "        return('Tenure_2')\n",
    "    elif x <= 36:\n",
    "        return('Tenure_3')\n",
    "    elif x <= 48:\n",
    "        return('Tenure_4')\n",
    "    elif x <= 60:\n",
    "        return('Tenure_5')\n",
    "    else:\n",
    "        return('Tenure_over_5')\n",
    "df['tenure_group'] = df.tenure.apply(transform_tenure)\n",
    "\n",
    "# 数值型和类别型字段\n",
    "Id_col = ['customerID']\n",
    "\n",
    "target_col = ['Churn']\n",
    "\n",
    "cat_cols = df.nunique()[df.nunique() < 10].index.tolist()\n",
    "\n",
    "num_cols = [i for i in df.columns if i not in cat_cols + Id_col]\n",
    "\n",
    "print( '类别型字段：n', cat_cols)\n",
    "\n",
    "print( '-' * 30)\n",
    "\n",
    "print( '数值型字段：n', num_cols)"
   ]
  },
  {
   "cell_type": "code",
   "execution_count": 5,
   "id": "79c7d050",
   "metadata": {},
   "outputs": [
    {
     "ename": "KeyboardInterrupt",
     "evalue": "",
     "output_type": "error",
     "traceback": [
      "\u001b[1;31m---------------------------------------------------------------------------\u001b[0m",
      "\u001b[1;31mKeyboardInterrupt\u001b[0m                         Traceback (most recent call last)",
      "\u001b[1;32md:\\Data\\UniversityLearn\\Junior\\Semester1\\data_mine\\lab\\lab1\\improve\\lab1.ipynb Cell 6\u001b[0m line \u001b[0;36m3\n\u001b[0;32m      <a href='vscode-notebook-cell:/d%3A/Data/UniversityLearn/Junior/Semester1/data_mine/lab/lab1/improve/lab1.ipynb#W5sZmlsZQ%3D%3D?line=0'>1</a>\u001b[0m \u001b[39m#探索性分析，目的是找到最有影响力的几个特征\u001b[39;00m\n\u001b[0;32m      <a href='vscode-notebook-cell:/d%3A/Data/UniversityLearn/Junior/Semester1/data_mine/lab/lab1/improve/lab1.ipynb#W5sZmlsZQ%3D%3D?line=1'>2</a>\u001b[0m \u001b[39mimport\u001b[39;00m \u001b[39mmatplotlib\u001b[39;00m\u001b[39m.\u001b[39;00m\u001b[39mpyplot\u001b[39;00m \u001b[39mas\u001b[39;00m \u001b[39mplt\u001b[39;00m\n\u001b[1;32m----> <a href='vscode-notebook-cell:/d%3A/Data/UniversityLearn/Junior/Semester1/data_mine/lab/lab1/improve/lab1.ipynb#W5sZmlsZQ%3D%3D?line=2'>3</a>\u001b[0m \u001b[39mimport\u001b[39;00m \u001b[39mseaborn\u001b[39;00m \u001b[39mas\u001b[39;00m \u001b[39msns\u001b[39;00m\n\u001b[0;32m      <a href='vscode-notebook-cell:/d%3A/Data/UniversityLearn/Junior/Semester1/data_mine/lab/lab1/improve/lab1.ipynb#W5sZmlsZQ%3D%3D?line=3'>4</a>\u001b[0m \u001b[39mimport\u001b[39;00m \u001b[39mplotly\u001b[39;00m \u001b[39mas\u001b[39;00m \u001b[39mpy\u001b[39;00m\n\u001b[0;32m      <a href='vscode-notebook-cell:/d%3A/Data/UniversityLearn/Junior/Semester1/data_mine/lab/lab1/improve/lab1.ipynb#W5sZmlsZQ%3D%3D?line=4'>5</a>\u001b[0m \u001b[39mimport\u001b[39;00m \u001b[39mplotly\u001b[39;00m\u001b[39m.\u001b[39;00m\u001b[39mgraph_objs\u001b[39;00m \u001b[39mas\u001b[39;00m \u001b[39mgo\u001b[39;00m\n",
      "File \u001b[1;32me:\\VirtualSpace\\python_env\\conda\\data_analysis\\lib\\site-packages\\seaborn\\__init__.py:5\u001b[0m\n\u001b[0;32m      3\u001b[0m \u001b[39mfrom\u001b[39;00m \u001b[39m.\u001b[39;00m\u001b[39mutils\u001b[39;00m \u001b[39mimport\u001b[39;00m \u001b[39m*\u001b[39m  \u001b[39m# noqa: F401,F403\u001b[39;00m\n\u001b[0;32m      4\u001b[0m \u001b[39mfrom\u001b[39;00m \u001b[39m.\u001b[39;00m\u001b[39mpalettes\u001b[39;00m \u001b[39mimport\u001b[39;00m \u001b[39m*\u001b[39m  \u001b[39m# noqa: F401,F403\u001b[39;00m\n\u001b[1;32m----> 5\u001b[0m \u001b[39mfrom\u001b[39;00m \u001b[39m.\u001b[39;00m\u001b[39mrelational\u001b[39;00m \u001b[39mimport\u001b[39;00m \u001b[39m*\u001b[39m  \u001b[39m# noqa: F401,F403\u001b[39;00m\n\u001b[0;32m      6\u001b[0m \u001b[39mfrom\u001b[39;00m \u001b[39m.\u001b[39;00m\u001b[39mregression\u001b[39;00m \u001b[39mimport\u001b[39;00m \u001b[39m*\u001b[39m  \u001b[39m# noqa: F401,F403\u001b[39;00m\n\u001b[0;32m      7\u001b[0m \u001b[39mfrom\u001b[39;00m \u001b[39m.\u001b[39;00m\u001b[39mcategorical\u001b[39;00m \u001b[39mimport\u001b[39;00m \u001b[39m*\u001b[39m  \u001b[39m# noqa: F401,F403\u001b[39;00m\n",
      "File \u001b[1;32me:\\VirtualSpace\\python_env\\conda\\data_analysis\\lib\\site-packages\\seaborn\\relational.py:17\u001b[0m\n\u001b[0;32m      8\u001b[0m \u001b[39mfrom\u001b[39;00m \u001b[39m.\u001b[39;00m\u001b[39m_oldcore\u001b[39;00m \u001b[39mimport\u001b[39;00m (\n\u001b[0;32m      9\u001b[0m     VectorPlotter,\n\u001b[0;32m     10\u001b[0m )\n\u001b[0;32m     11\u001b[0m \u001b[39mfrom\u001b[39;00m \u001b[39m.\u001b[39;00m\u001b[39mutils\u001b[39;00m \u001b[39mimport\u001b[39;00m (\n\u001b[0;32m     12\u001b[0m     locator_to_legend_entries,\n\u001b[0;32m     13\u001b[0m     adjust_legend_subtitles,\n\u001b[0;32m     14\u001b[0m     _default_color,\n\u001b[0;32m     15\u001b[0m     _deprecate_ci,\n\u001b[0;32m     16\u001b[0m )\n\u001b[1;32m---> 17\u001b[0m \u001b[39mfrom\u001b[39;00m \u001b[39m.\u001b[39;00m\u001b[39m_statistics\u001b[39;00m \u001b[39mimport\u001b[39;00m EstimateAggregator\n\u001b[0;32m     18\u001b[0m \u001b[39mfrom\u001b[39;00m \u001b[39m.\u001b[39;00m\u001b[39maxisgrid\u001b[39;00m \u001b[39mimport\u001b[39;00m FacetGrid, _facet_docs\n\u001b[0;32m     19\u001b[0m \u001b[39mfrom\u001b[39;00m \u001b[39m.\u001b[39;00m\u001b[39m_docstrings\u001b[39;00m \u001b[39mimport\u001b[39;00m DocstringComponents, _core_docs\n",
      "File \u001b[1;32me:\\VirtualSpace\\python_env\\conda\\data_analysis\\lib\\site-packages\\seaborn\\_statistics.py:31\u001b[0m\n\u001b[0;32m     29\u001b[0m \u001b[39mimport\u001b[39;00m \u001b[39mpandas\u001b[39;00m \u001b[39mas\u001b[39;00m \u001b[39mpd\u001b[39;00m\n\u001b[0;32m     30\u001b[0m \u001b[39mtry\u001b[39;00m:\n\u001b[1;32m---> 31\u001b[0m     \u001b[39mfrom\u001b[39;00m \u001b[39mscipy\u001b[39;00m\u001b[39m.\u001b[39;00m\u001b[39mstats\u001b[39;00m \u001b[39mimport\u001b[39;00m gaussian_kde\n\u001b[0;32m     32\u001b[0m     _no_scipy \u001b[39m=\u001b[39m \u001b[39mFalse\u001b[39;00m\n\u001b[0;32m     33\u001b[0m \u001b[39mexcept\u001b[39;00m \u001b[39mImportError\u001b[39;00m:\n",
      "File \u001b[1;32me:\\VirtualSpace\\python_env\\conda\\data_analysis\\lib\\site-packages\\scipy\\stats\\__init__.py:608\u001b[0m\n\u001b[0;32m      1\u001b[0m \u001b[39m\"\"\"\u001b[39;00m\n\u001b[0;32m      2\u001b[0m \u001b[39m.. _statsrefmanual:\u001b[39;00m\n\u001b[0;32m      3\u001b[0m \n\u001b[1;32m   (...)\u001b[0m\n\u001b[0;32m    603\u001b[0m \n\u001b[0;32m    604\u001b[0m \u001b[39m\"\"\"\u001b[39;00m\n\u001b[0;32m    606\u001b[0m \u001b[39mfrom\u001b[39;00m \u001b[39m.\u001b[39;00m\u001b[39m_warnings_errors\u001b[39;00m \u001b[39mimport\u001b[39;00m (ConstantInputWarning, NearConstantInputWarning,\n\u001b[0;32m    607\u001b[0m                                DegenerateDataWarning, FitError)\n\u001b[1;32m--> 608\u001b[0m \u001b[39mfrom\u001b[39;00m \u001b[39m.\u001b[39;00m\u001b[39m_stats_py\u001b[39;00m \u001b[39mimport\u001b[39;00m \u001b[39m*\u001b[39m\n\u001b[0;32m    609\u001b[0m \u001b[39mfrom\u001b[39;00m \u001b[39m.\u001b[39;00m\u001b[39m_variation\u001b[39;00m \u001b[39mimport\u001b[39;00m variation\n\u001b[0;32m    610\u001b[0m \u001b[39mfrom\u001b[39;00m \u001b[39m.\u001b[39;00m\u001b[39mdistributions\u001b[39;00m \u001b[39mimport\u001b[39;00m \u001b[39m*\u001b[39m\n",
      "File \u001b[1;32me:\\VirtualSpace\\python_env\\conda\\data_analysis\\lib\\site-packages\\scipy\\stats\\_stats_py.py:39\u001b[0m\n\u001b[0;32m     36\u001b[0m \u001b[39mfrom\u001b[39;00m \u001b[39mnumpy\u001b[39;00m\u001b[39m.\u001b[39;00m\u001b[39mlib\u001b[39;00m \u001b[39mimport\u001b[39;00m NumpyVersion\n\u001b[0;32m     37\u001b[0m \u001b[39mfrom\u001b[39;00m \u001b[39mnumpy\u001b[39;00m\u001b[39m.\u001b[39;00m\u001b[39mtesting\u001b[39;00m \u001b[39mimport\u001b[39;00m suppress_warnings\n\u001b[1;32m---> 39\u001b[0m \u001b[39mfrom\u001b[39;00m \u001b[39mscipy\u001b[39;00m\u001b[39m.\u001b[39;00m\u001b[39mspatial\u001b[39;00m\u001b[39m.\u001b[39;00m\u001b[39mdistance\u001b[39;00m \u001b[39mimport\u001b[39;00m cdist\n\u001b[0;32m     40\u001b[0m \u001b[39mfrom\u001b[39;00m \u001b[39mscipy\u001b[39;00m\u001b[39m.\u001b[39;00m\u001b[39mndimage\u001b[39;00m \u001b[39mimport\u001b[39;00m _measurements\n\u001b[0;32m     41\u001b[0m \u001b[39mfrom\u001b[39;00m \u001b[39mscipy\u001b[39;00m\u001b[39m.\u001b[39;00m\u001b[39m_lib\u001b[39;00m\u001b[39m.\u001b[39;00m\u001b[39m_util\u001b[39;00m \u001b[39mimport\u001b[39;00m (check_random_state, MapWrapper, _get_nan,\n\u001b[0;32m     42\u001b[0m                               rng_integers, _rename_parameter, _contains_nan)\n",
      "File \u001b[1;32me:\\VirtualSpace\\python_env\\conda\\data_analysis\\lib\\site-packages\\scipy\\spatial\\__init__.py:110\u001b[0m\n\u001b[0;32m      1\u001b[0m \u001b[39m\"\"\"\u001b[39;00m\n\u001b[0;32m      2\u001b[0m \u001b[39m=============================================================\u001b[39;00m\n\u001b[0;32m      3\u001b[0m \u001b[39mSpatial algorithms and data structures (:mod:`scipy.spatial`)\u001b[39;00m\n\u001b[1;32m   (...)\u001b[0m\n\u001b[0;32m    107\u001b[0m \u001b[39m   QhullError\u001b[39;00m\n\u001b[0;32m    108\u001b[0m \u001b[39m\"\"\"\u001b[39;00m\n\u001b[1;32m--> 110\u001b[0m \u001b[39mfrom\u001b[39;00m \u001b[39m.\u001b[39;00m\u001b[39m_kdtree\u001b[39;00m \u001b[39mimport\u001b[39;00m \u001b[39m*\u001b[39m\n\u001b[0;32m    111\u001b[0m \u001b[39mfrom\u001b[39;00m \u001b[39m.\u001b[39;00m\u001b[39m_ckdtree\u001b[39;00m \u001b[39mimport\u001b[39;00m \u001b[39m*\u001b[39m\n\u001b[0;32m    112\u001b[0m \u001b[39mfrom\u001b[39;00m \u001b[39m.\u001b[39;00m\u001b[39m_qhull\u001b[39;00m \u001b[39mimport\u001b[39;00m \u001b[39m*\u001b[39m\n",
      "File \u001b[1;32me:\\VirtualSpace\\python_env\\conda\\data_analysis\\lib\\site-packages\\scipy\\spatial\\_kdtree.py:4\u001b[0m\n\u001b[0;32m      1\u001b[0m \u001b[39m# Copyright Anne M. Archibald 2008\u001b[39;00m\n\u001b[0;32m      2\u001b[0m \u001b[39m# Released under the scipy license\u001b[39;00m\n\u001b[0;32m      3\u001b[0m \u001b[39mimport\u001b[39;00m \u001b[39mnumpy\u001b[39;00m \u001b[39mas\u001b[39;00m \u001b[39mnp\u001b[39;00m\n\u001b[1;32m----> 4\u001b[0m \u001b[39mfrom\u001b[39;00m \u001b[39m.\u001b[39;00m\u001b[39m_ckdtree\u001b[39;00m \u001b[39mimport\u001b[39;00m cKDTree, cKDTreeNode\n\u001b[0;32m      6\u001b[0m __all__ \u001b[39m=\u001b[39m [\u001b[39m'\u001b[39m\u001b[39mminkowski_distance_p\u001b[39m\u001b[39m'\u001b[39m, \u001b[39m'\u001b[39m\u001b[39mminkowski_distance\u001b[39m\u001b[39m'\u001b[39m,\n\u001b[0;32m      7\u001b[0m            \u001b[39m'\u001b[39m\u001b[39mdistance_matrix\u001b[39m\u001b[39m'\u001b[39m,\n\u001b[0;32m      8\u001b[0m            \u001b[39m'\u001b[39m\u001b[39mRectangle\u001b[39m\u001b[39m'\u001b[39m, \u001b[39m'\u001b[39m\u001b[39mKDTree\u001b[39m\u001b[39m'\u001b[39m]\n\u001b[0;32m     11\u001b[0m \u001b[39mdef\u001b[39;00m \u001b[39mminkowski_distance_p\u001b[39m(x, y, p\u001b[39m=\u001b[39m\u001b[39m2\u001b[39m):\n",
      "File \u001b[1;32m_ckdtree.pyx:12\u001b[0m, in \u001b[0;36minit scipy.spatial._ckdtree\u001b[1;34m()\u001b[0m\n",
      "File \u001b[1;32me:\\VirtualSpace\\python_env\\conda\\data_analysis\\lib\\site-packages\\scipy\\sparse\\__init__.py:287\u001b[0m\n\u001b[0;32m    284\u001b[0m \u001b[39mfrom\u001b[39;00m \u001b[39m.\u001b[39;00m\u001b[39m_matrix_io\u001b[39;00m \u001b[39mimport\u001b[39;00m \u001b[39m*\u001b[39m\n\u001b[0;32m    286\u001b[0m \u001b[39m# For backward compatibility with v0.19.\u001b[39;00m\n\u001b[1;32m--> 287\u001b[0m \u001b[39mfrom\u001b[39;00m \u001b[39m.\u001b[39;00m \u001b[39mimport\u001b[39;00m csgraph\n\u001b[0;32m    289\u001b[0m \u001b[39m# Deprecated namespaces, to be removed in v2.0.0\u001b[39;00m\n\u001b[0;32m    290\u001b[0m \u001b[39mfrom\u001b[39;00m \u001b[39m.\u001b[39;00m \u001b[39mimport\u001b[39;00m (\n\u001b[0;32m    291\u001b[0m     base, bsr, compressed, construct, coo, csc, csr, data, dia, dok, extract,\n\u001b[0;32m    292\u001b[0m     lil, sparsetools, sputils\n\u001b[0;32m    293\u001b[0m )\n",
      "File \u001b[1;32me:\\VirtualSpace\\python_env\\conda\\data_analysis\\lib\\site-packages\\scipy\\sparse\\csgraph\\__init__.py:185\u001b[0m\n\u001b[0;32m    157\u001b[0m __docformat__ \u001b[39m=\u001b[39m \u001b[39m\"\u001b[39m\u001b[39mrestructuredtext en\u001b[39m\u001b[39m\"\u001b[39m\n\u001b[0;32m    159\u001b[0m __all__ \u001b[39m=\u001b[39m [\u001b[39m'\u001b[39m\u001b[39mconnected_components\u001b[39m\u001b[39m'\u001b[39m,\n\u001b[0;32m    160\u001b[0m            \u001b[39m'\u001b[39m\u001b[39mlaplacian\u001b[39m\u001b[39m'\u001b[39m,\n\u001b[0;32m    161\u001b[0m            \u001b[39m'\u001b[39m\u001b[39mshortest_path\u001b[39m\u001b[39m'\u001b[39m,\n\u001b[1;32m   (...)\u001b[0m\n\u001b[0;32m    182\u001b[0m            \u001b[39m'\u001b[39m\u001b[39mcsgraph_to_masked\u001b[39m\u001b[39m'\u001b[39m,\n\u001b[0;32m    183\u001b[0m            \u001b[39m'\u001b[39m\u001b[39mNegativeCycleError\u001b[39m\u001b[39m'\u001b[39m]\n\u001b[1;32m--> 185\u001b[0m \u001b[39mfrom\u001b[39;00m \u001b[39m.\u001b[39;00m\u001b[39m_laplacian\u001b[39;00m \u001b[39mimport\u001b[39;00m laplacian\n\u001b[0;32m    186\u001b[0m \u001b[39mfrom\u001b[39;00m \u001b[39m.\u001b[39;00m\u001b[39m_shortest_path\u001b[39;00m \u001b[39mimport\u001b[39;00m (\n\u001b[0;32m    187\u001b[0m     shortest_path, floyd_warshall, dijkstra, bellman_ford, johnson,\n\u001b[0;32m    188\u001b[0m     NegativeCycleError\n\u001b[0;32m    189\u001b[0m )\n\u001b[0;32m    190\u001b[0m \u001b[39mfrom\u001b[39;00m \u001b[39m.\u001b[39;00m\u001b[39m_traversal\u001b[39;00m \u001b[39mimport\u001b[39;00m (\n\u001b[0;32m    191\u001b[0m     breadth_first_order, depth_first_order, breadth_first_tree,\n\u001b[0;32m    192\u001b[0m     depth_first_tree, connected_components\n\u001b[0;32m    193\u001b[0m )\n",
      "File \u001b[1;32me:\\VirtualSpace\\python_env\\conda\\data_analysis\\lib\\site-packages\\scipy\\sparse\\csgraph\\_laplacian.py:7\u001b[0m\n\u001b[0;32m      5\u001b[0m \u001b[39mimport\u001b[39;00m \u001b[39mnumpy\u001b[39;00m \u001b[39mas\u001b[39;00m \u001b[39mnp\u001b[39;00m\n\u001b[0;32m      6\u001b[0m \u001b[39mfrom\u001b[39;00m \u001b[39mscipy\u001b[39;00m\u001b[39m.\u001b[39;00m\u001b[39msparse\u001b[39;00m \u001b[39mimport\u001b[39;00m issparse\n\u001b[1;32m----> 7\u001b[0m \u001b[39mfrom\u001b[39;00m \u001b[39mscipy\u001b[39;00m\u001b[39m.\u001b[39;00m\u001b[39msparse\u001b[39;00m\u001b[39m.\u001b[39;00m\u001b[39mlinalg\u001b[39;00m \u001b[39mimport\u001b[39;00m LinearOperator\n\u001b[0;32m     10\u001b[0m \u001b[39m###############################################################################\u001b[39;00m\n\u001b[0;32m     11\u001b[0m \u001b[39m# Graph laplacian\u001b[39;00m\n\u001b[0;32m     12\u001b[0m \u001b[39mdef\u001b[39;00m \u001b[39mlaplacian\u001b[39m(\n\u001b[0;32m     13\u001b[0m     csgraph,\n\u001b[0;32m     14\u001b[0m     normed\u001b[39m=\u001b[39m\u001b[39mFalse\u001b[39;00m,\n\u001b[1;32m   (...)\u001b[0m\n\u001b[0;32m     21\u001b[0m     symmetrized\u001b[39m=\u001b[39m\u001b[39mFalse\u001b[39;00m,\n\u001b[0;32m     22\u001b[0m ):\n",
      "File \u001b[1;32me:\\VirtualSpace\\python_env\\conda\\data_analysis\\lib\\site-packages\\scipy\\sparse\\linalg\\__init__.py:120\u001b[0m\n\u001b[0;32m      1\u001b[0m \u001b[39m\"\"\"\u001b[39;00m\n\u001b[0;32m      2\u001b[0m \u001b[39mSparse linear algebra (:mod:`scipy.sparse.linalg`)\u001b[39;00m\n\u001b[0;32m      3\u001b[0m \u001b[39m==================================================\u001b[39;00m\n\u001b[1;32m   (...)\u001b[0m\n\u001b[0;32m    117\u001b[0m \n\u001b[0;32m    118\u001b[0m \u001b[39m\"\"\"\u001b[39;00m\n\u001b[1;32m--> 120\u001b[0m \u001b[39mfrom\u001b[39;00m \u001b[39m.\u001b[39;00m\u001b[39m_isolve\u001b[39;00m \u001b[39mimport\u001b[39;00m \u001b[39m*\u001b[39m\n\u001b[0;32m    121\u001b[0m \u001b[39mfrom\u001b[39;00m \u001b[39m.\u001b[39;00m\u001b[39m_dsolve\u001b[39;00m \u001b[39mimport\u001b[39;00m \u001b[39m*\u001b[39m\n\u001b[0;32m    122\u001b[0m \u001b[39mfrom\u001b[39;00m \u001b[39m.\u001b[39;00m\u001b[39m_interface\u001b[39;00m \u001b[39mimport\u001b[39;00m \u001b[39m*\u001b[39m\n",
      "File \u001b[1;32me:\\VirtualSpace\\python_env\\conda\\data_analysis\\lib\\site-packages\\scipy\\sparse\\linalg\\_isolve\\__init__.py:4\u001b[0m\n\u001b[0;32m      1\u001b[0m \u001b[39m\"\u001b[39m\u001b[39mIterative Solvers for Sparse Linear Systems\u001b[39m\u001b[39m\"\u001b[39m\n\u001b[0;32m      3\u001b[0m \u001b[39m#from info import __doc__\u001b[39;00m\n\u001b[1;32m----> 4\u001b[0m \u001b[39mfrom\u001b[39;00m \u001b[39m.\u001b[39;00m\u001b[39miterative\u001b[39;00m \u001b[39mimport\u001b[39;00m \u001b[39m*\u001b[39m\n\u001b[0;32m      5\u001b[0m \u001b[39mfrom\u001b[39;00m \u001b[39m.\u001b[39;00m\u001b[39mminres\u001b[39;00m \u001b[39mimport\u001b[39;00m minres\n\u001b[0;32m      6\u001b[0m \u001b[39mfrom\u001b[39;00m \u001b[39m.\u001b[39;00m\u001b[39mlgmres\u001b[39;00m \u001b[39mimport\u001b[39;00m lgmres\n",
      "File \u001b[1;32me:\\VirtualSpace\\python_env\\conda\\data_analysis\\lib\\site-packages\\scipy\\sparse\\linalg\\_isolve\\iterative.py:9\u001b[0m\n\u001b[0;32m      6\u001b[0m \u001b[39mfrom\u001b[39;00m \u001b[39mtextwrap\u001b[39;00m \u001b[39mimport\u001b[39;00m dedent\n\u001b[0;32m      7\u001b[0m \u001b[39mimport\u001b[39;00m \u001b[39mnumpy\u001b[39;00m \u001b[39mas\u001b[39;00m \u001b[39mnp\u001b[39;00m\n\u001b[1;32m----> 9\u001b[0m \u001b[39mfrom\u001b[39;00m \u001b[39m.\u001b[39;00m \u001b[39mimport\u001b[39;00m _iterative\n\u001b[0;32m     11\u001b[0m \u001b[39mfrom\u001b[39;00m \u001b[39mscipy\u001b[39;00m\u001b[39m.\u001b[39;00m\u001b[39msparse\u001b[39;00m\u001b[39m.\u001b[39;00m\u001b[39mlinalg\u001b[39;00m\u001b[39m.\u001b[39;00m\u001b[39m_interface\u001b[39;00m \u001b[39mimport\u001b[39;00m LinearOperator\n\u001b[0;32m     12\u001b[0m \u001b[39mfrom\u001b[39;00m \u001b[39m.\u001b[39;00m\u001b[39mutils\u001b[39;00m \u001b[39mimport\u001b[39;00m make_system\n",
      "\u001b[1;31mKeyboardInterrupt\u001b[0m: "
     ]
    }
   ],
   "source": [
    "#探索性分析，目的是找到最有影响力的几个特征\n",
    "import matplotlib.pyplot as plt\n",
    "import seaborn as sns\n",
    "import plotly as py\n",
    "import plotly.graph_objs as go\n",
    "import plotly.figure_factory as ff\n",
    "\n",
    "#目标变量Churn分布\n",
    "df['Churn'].value_counts()\n",
    "\n",
    "trace0 = go.Pie(labels=['未流失客户','流失客户'],\n",
    "#                 labels=df['Churn'].value_counts().index, \n",
    "                values=df['Churn'].value_counts().values,\n",
    "                hole=.5,\n",
    "                rotation=90,\n",
    "                marker=dict(colors=['rgb(154,203,228)', 'rgb(191,76,81)'], \n",
    "                            line=dict(color='white', width=1.3))\n",
    "               )\n",
    "data = [trace0] \n",
    "layout = go.Layout(title='目标变量Churn分布', font=dict(size=26))\n",
    "\n",
    "fig = go.Figure(data=data, layout=layout)\n",
    "py.offline.plot(fig, filename= '整体流失情况分布.html', auto_open=False)"
   ]
  },
  {
   "cell_type": "code",
   "execution_count": null,
   "id": "3f58de07",
   "metadata": {},
   "outputs": [],
   "source": [
    "def plot_bar(input_col: str, target_col: str, title_name: str):\n",
    "    cross_table = round(pd.crosstab(df[input_col], df[target_col], normalize='index')*100, 2)\n",
    "\n",
    "    # 索引\n",
    "    index_0 = cross_table.columns.tolist()[0] \n",
    "    index_1 = cross_table.columns.tolist()[1] \n",
    "\n",
    "    # 绘图轨迹\n",
    "    trace0 = go.Bar(x=cross_table.index.tolist(), \n",
    "                    y=cross_table[index_0].values.tolist(), \n",
    "#                     name=index_0,\n",
    "                    marker=dict(color='rgb(154,203,228)'),\n",
    "                    name='未流失客户'\n",
    "                   ) \n",
    "    trace1 = go.Bar(x=cross_table.index.tolist(), \n",
    "                    y=cross_table[index_1].values.tolist(), \n",
    "#                     name=index_1,\n",
    "                    marker=dict(color='rgb(191,76,81)'),\n",
    "                    name='流失客户'\n",
    "                   ) \n",
    "\n",
    "    data = [trace0, trace1] \n",
    "    # 布局\n",
    "    layout = go.Layout(title=title_name, bargap=0.4, barmode='stack', font=dict(size=26))\n",
    "    \n",
    "    # 画布\n",
    "    fig = go.Figure(data=data, layout=layout)\n",
    "    # 绘图\n",
    "    py.offline.plot(fig, filename=f'./html/category_relation/{title_name}.html',auto_open=False) \n",
    "\n",
    "# 绘制数值型的数据在不同分布区间内流失和未流失客户的直方图可视化\n",
    "def plot_histogram(input_col: str, title_name: str):\n",
    "    churn_num = df[df['Churn'] == 'Yes'][input_col]\n",
    "    not_churn_num = df[df['Churn'] == 'No'][input_col] \n",
    "    \n",
    "    # 图形轨迹\n",
    "    trace0 = go.Histogram(x=churn_num, \n",
    "                          bingroup=25,\n",
    "                          histnorm='percent',\n",
    "                          name='流失客户',\n",
    "                          marker=dict(color='rgb(191,76,81)')\n",
    "                         )\n",
    "    trace1 = go.Histogram(x=not_churn_num, \n",
    "                          bingroup=25,\n",
    "                          histnorm='percent',\n",
    "                          name='未流失客户',\n",
    "                          marker=dict(color='rgb(154,203,228)')\n",
    "                         )\n",
    "\n",
    "    data = [trace0, trace1]\n",
    "    layout = go.Layout(title=title_name, font=dict(size=26))\n",
    "\n",
    "    fig = go.Figure(data=data, layout=layout)\n",
    "    py.offline.plot(fig, filename=f'./html/num_relation/{title_name}.html',auto_open=False) "
   ]
  },
  {
   "cell_type": "code",
   "execution_count": null,
   "id": "587ae7a5",
   "metadata": {},
   "outputs": [],
   "source": [
    "#类别型数据与是否流失的关系\n",
    "for char in cat_cols:\n",
    "    plot_bar(input_col=char, target_col='Churn', title_name='{}与是否流失的关系'.format(char))\n",
    "#数值类数据与是否流失的关系\n",
    "for char in num_cols :\n",
    "    plot_histogram(input_col=char, title_name='{}与是否流失的关系'.format(char))"
   ]
  },
  {
   "cell_type": "code",
   "execution_count": null,
   "id": "077f8ac2",
   "metadata": {},
   "outputs": [],
   "source": [
    "# #探索数值型变量相关性\n",
    "# #中文显示问题\n",
    "import matplotlib\n",
    "# matplotlib.rc(\"font\",family='SimHei')\n",
    "\n",
    "# plt.figure(figsize=(8, 6))  \n",
    "# sns.heatmap(df.corr(), linewidths=0.1, cmap='tab20c_r', annot=True)\n",
    "# plt.title('数值型属性的相关性', fontdict={'fontsize': 'xx-large', 'fontweight':'heavy'}) \n",
    "# plt.xticks(fontsize=12)\n",
    "# plt.yticks(fontsize=12)\n",
    "# plt.show() "
   ]
  },
  {
   "cell_type": "code",
   "execution_count": null,
   "id": "68a2cc7e",
   "metadata": {},
   "outputs": [
    {
     "data": {
      "text/html": [
       "<div>\n",
       "<style scoped>\n",
       "    .dataframe tbody tr th:only-of-type {\n",
       "        vertical-align: middle;\n",
       "    }\n",
       "\n",
       "    .dataframe tbody tr th {\n",
       "        vertical-align: top;\n",
       "    }\n",
       "\n",
       "    .dataframe thead th {\n",
       "        text-align: right;\n",
       "    }\n",
       "</style>\n",
       "<table border=\"1\" class=\"dataframe\">\n",
       "  <thead>\n",
       "    <tr style=\"text-align: right;\">\n",
       "      <th></th>\n",
       "      <th>customerID</th>\n",
       "      <th>gender</th>\n",
       "      <th>SeniorCitizen</th>\n",
       "      <th>Partner</th>\n",
       "      <th>Dependents</th>\n",
       "      <th>tenure</th>\n",
       "      <th>PhoneService</th>\n",
       "      <th>MultipleLines</th>\n",
       "      <th>OnlineSecurity</th>\n",
       "      <th>OnlineBackup</th>\n",
       "      <th>...</th>\n",
       "      <th>PaymentMethod_Bank transfer (automatic)</th>\n",
       "      <th>PaymentMethod_Credit card (automatic)</th>\n",
       "      <th>PaymentMethod_Electronic check</th>\n",
       "      <th>PaymentMethod_Mailed check</th>\n",
       "      <th>tenure_group_Tenure_1</th>\n",
       "      <th>tenure_group_Tenure_2</th>\n",
       "      <th>tenure_group_Tenure_3</th>\n",
       "      <th>tenure_group_Tenure_4</th>\n",
       "      <th>tenure_group_Tenure_5</th>\n",
       "      <th>tenure_group_Tenure_over_5</th>\n",
       "    </tr>\n",
       "  </thead>\n",
       "  <tbody>\n",
       "    <tr>\n",
       "      <th>0</th>\n",
       "      <td>7590-VHVEG</td>\n",
       "      <td>0</td>\n",
       "      <td>0</td>\n",
       "      <td>1</td>\n",
       "      <td>0</td>\n",
       "      <td>1</td>\n",
       "      <td>0</td>\n",
       "      <td>0</td>\n",
       "      <td>0</td>\n",
       "      <td>1</td>\n",
       "      <td>...</td>\n",
       "      <td>False</td>\n",
       "      <td>False</td>\n",
       "      <td>True</td>\n",
       "      <td>False</td>\n",
       "      <td>True</td>\n",
       "      <td>False</td>\n",
       "      <td>False</td>\n",
       "      <td>False</td>\n",
       "      <td>False</td>\n",
       "      <td>False</td>\n",
       "    </tr>\n",
       "    <tr>\n",
       "      <th>1</th>\n",
       "      <td>5575-GNVDE</td>\n",
       "      <td>1</td>\n",
       "      <td>0</td>\n",
       "      <td>0</td>\n",
       "      <td>0</td>\n",
       "      <td>34</td>\n",
       "      <td>1</td>\n",
       "      <td>0</td>\n",
       "      <td>1</td>\n",
       "      <td>0</td>\n",
       "      <td>...</td>\n",
       "      <td>False</td>\n",
       "      <td>False</td>\n",
       "      <td>False</td>\n",
       "      <td>True</td>\n",
       "      <td>False</td>\n",
       "      <td>False</td>\n",
       "      <td>True</td>\n",
       "      <td>False</td>\n",
       "      <td>False</td>\n",
       "      <td>False</td>\n",
       "    </tr>\n",
       "    <tr>\n",
       "      <th>2</th>\n",
       "      <td>3668-QPYBK</td>\n",
       "      <td>1</td>\n",
       "      <td>0</td>\n",
       "      <td>0</td>\n",
       "      <td>0</td>\n",
       "      <td>2</td>\n",
       "      <td>1</td>\n",
       "      <td>0</td>\n",
       "      <td>1</td>\n",
       "      <td>1</td>\n",
       "      <td>...</td>\n",
       "      <td>False</td>\n",
       "      <td>False</td>\n",
       "      <td>False</td>\n",
       "      <td>True</td>\n",
       "      <td>True</td>\n",
       "      <td>False</td>\n",
       "      <td>False</td>\n",
       "      <td>False</td>\n",
       "      <td>False</td>\n",
       "      <td>False</td>\n",
       "    </tr>\n",
       "    <tr>\n",
       "      <th>3</th>\n",
       "      <td>7795-CFOCW</td>\n",
       "      <td>1</td>\n",
       "      <td>0</td>\n",
       "      <td>0</td>\n",
       "      <td>0</td>\n",
       "      <td>45</td>\n",
       "      <td>0</td>\n",
       "      <td>0</td>\n",
       "      <td>1</td>\n",
       "      <td>0</td>\n",
       "      <td>...</td>\n",
       "      <td>True</td>\n",
       "      <td>False</td>\n",
       "      <td>False</td>\n",
       "      <td>False</td>\n",
       "      <td>False</td>\n",
       "      <td>False</td>\n",
       "      <td>False</td>\n",
       "      <td>True</td>\n",
       "      <td>False</td>\n",
       "      <td>False</td>\n",
       "    </tr>\n",
       "    <tr>\n",
       "      <th>4</th>\n",
       "      <td>9237-HQITU</td>\n",
       "      <td>0</td>\n",
       "      <td>0</td>\n",
       "      <td>0</td>\n",
       "      <td>0</td>\n",
       "      <td>2</td>\n",
       "      <td>1</td>\n",
       "      <td>0</td>\n",
       "      <td>0</td>\n",
       "      <td>0</td>\n",
       "      <td>...</td>\n",
       "      <td>False</td>\n",
       "      <td>False</td>\n",
       "      <td>True</td>\n",
       "      <td>False</td>\n",
       "      <td>True</td>\n",
       "      <td>False</td>\n",
       "      <td>False</td>\n",
       "      <td>False</td>\n",
       "      <td>False</td>\n",
       "      <td>False</td>\n",
       "    </tr>\n",
       "  </tbody>\n",
       "</table>\n",
       "<p>5 rows × 34 columns</p>\n",
       "</div>"
      ],
      "text/plain": [
       "   customerID  gender  SeniorCitizen  Partner  Dependents  tenure  \\\n",
       "0  7590-VHVEG       0              0        1           0       1   \n",
       "1  5575-GNVDE       1              0        0           0      34   \n",
       "2  3668-QPYBK       1              0        0           0       2   \n",
       "3  7795-CFOCW       1              0        0           0      45   \n",
       "4  9237-HQITU       0              0        0           0       2   \n",
       "\n",
       "   PhoneService  MultipleLines  OnlineSecurity  OnlineBackup  ...  \\\n",
       "0             0              0               0             1  ...   \n",
       "1             1              0               1             0  ...   \n",
       "2             1              0               1             1  ...   \n",
       "3             0              0               1             0  ...   \n",
       "4             1              0               0             0  ...   \n",
       "\n",
       "   PaymentMethod_Bank transfer (automatic)  \\\n",
       "0                                    False   \n",
       "1                                    False   \n",
       "2                                    False   \n",
       "3                                     True   \n",
       "4                                    False   \n",
       "\n",
       "   PaymentMethod_Credit card (automatic)  PaymentMethod_Electronic check  \\\n",
       "0                                  False                            True   \n",
       "1                                  False                           False   \n",
       "2                                  False                           False   \n",
       "3                                  False                           False   \n",
       "4                                  False                            True   \n",
       "\n",
       "   PaymentMethod_Mailed check  tenure_group_Tenure_1  tenure_group_Tenure_2  \\\n",
       "0                       False                   True                  False   \n",
       "1                        True                  False                  False   \n",
       "2                        True                   True                  False   \n",
       "3                       False                  False                  False   \n",
       "4                       False                   True                  False   \n",
       "\n",
       "   tenure_group_Tenure_3  tenure_group_Tenure_4  tenure_group_Tenure_5  \\\n",
       "0                  False                  False                  False   \n",
       "1                   True                  False                  False   \n",
       "2                  False                  False                  False   \n",
       "3                  False                   True                  False   \n",
       "4                  False                  False                  False   \n",
       "\n",
       "   tenure_group_Tenure_over_5  \n",
       "0                       False  \n",
       "1                       False  \n",
       "2                       False  \n",
       "3                       False  \n",
       "4                       False  \n",
       "\n",
       "[5 rows x 34 columns]"
      ]
     },
     "execution_count": 11,
     "metadata": {},
     "output_type": "execute_result"
    }
   ],
   "source": [
    "# 对于二分类变量，编码为0和1;\n",
    "# 对于多分类变量，进行one_hot编码；\n",
    "# 对于数值型变量，部分模型如KNN、神经网络、Logistic需要进行标准化处理。\n",
    "# 建模数据\n",
    "from sklearn.preprocessing import LabelEncoder\n",
    "df_model = df\n",
    "Id_col = ['customerID']\n",
    "target_col = ['Churn']\n",
    "# 分类型\n",
    "cat_cols = df_model.nunique()[df_model.nunique() < 10].index.tolist()\n",
    "# 二分类属性\n",
    "binary_cols = df_model.nunique()[df_model.nunique() == 2].index.tolist()\n",
    "# 多分类属性\n",
    "multi_cols = [i for i in cat_cols if i not in binary_cols]\n",
    "# 数值型\n",
    "num_cols = [i for i in df_model.columns if i not in cat_cols + Id_col]\n",
    "# 二分类-标签编码\n",
    "le = LabelEncoder()\n",
    "for i in binary_cols:\n",
    "    df_model[i] = le.fit_transform(df_model[i])\n",
    "# 多分类-哑变量转换\n",
    "df_model = pd.get_dummies(data=df_model, columns=multi_cols)\n",
    "df_model.head()\n",
    "# 这里的tenure作为分组和本身的数值同时出现在了原本的数据输入中这合适吗，不应该吧数值类型的给down掉吗"
   ]
  },
  {
   "cell_type": "markdown",
   "id": "00d4d7f5",
   "metadata": {},
   "source": [
    "改进思路材料\n",
    "\n",
    "scikit-learn库中提供了一些常用的特征选择函数，包括：\n",
    "\n",
    "f_classif（适用于分类问题的Fisher准则）：该函数适用于分类问题，它计算每个特征与类标签之间的相关系数，然后根据这些相关系数进行排序。Fisher准则是一种常见的特征选择方法，它认为与类标签相关的特征应该是重要的，因此选择前k个最佳的特征。\n",
    "f_regression（适用于回归问题的Fisher准则）：该函数适用于回归问题，它计算每个特征与预测目标之间的相关系数，然后根据这些相关系数进行排序。与f_classif类似，f_regression也认为与预测目标相关的特征应该是重要的，因此选择前k个最佳的特征。\n",
    "mutual_info_classif（基于互信息的选择）：该函数使用互信息（mutual information）来衡量特征与类标签之间的相关性。互信息是一种衡量两个变量之间相关性的指标，它反映了两个变量之间的信息共享程度。选择前k个最佳的特征。\n",
    "mutual_info_regression（基于互信息的选择）：该函数使用互信息来衡量特征与预测目标之间的相关性。与mutual_info_classif类似，mutual_info_regression也基于互信息来选择前k个最佳的特征。\n",
    "chi2（卡方检验）：该函数使用卡方检验（Chi-squared test）来衡量特征与类标签之间的相关性。卡方检验是一种常见的统计方法，它用于检验两个变量之间的独立性。选择前k个最佳的特征。\n",
    "这些函数都有不同的特征，适用于不同的数据类型和问题。在使用SelectKBest类时，我们可以根据实际需求选择合适的函数来对特征进行排序和筛选。"
   ]
  },
  {
   "cell_type": "code",
   "execution_count": null,
   "id": "5f8e4146",
   "metadata": {},
   "outputs": [
    {
     "name": "stdout",
     "output_type": "stream",
     "text": [
      "(7032, 32)\n",
      "(7032, 20)\n"
     ]
    },
    {
     "name": "stderr",
     "output_type": "stream",
     "text": [
      "e:\\VirtualSpace\\python_env\\conda\\data_analysis\\lib\\site-packages\\sklearn\\utils\\validation.py:1184: DataConversionWarning:\n",
      "\n",
      "A column-vector y was passed when a 1d array was expected. Please change the shape of y to (n_samples, ), for example using ravel().\n",
      "\n"
     ]
    },
    {
     "data": {
      "text/html": [
       "<div>\n",
       "<style scoped>\n",
       "    .dataframe tbody tr th:only-of-type {\n",
       "        vertical-align: middle;\n",
       "    }\n",
       "\n",
       "    .dataframe tbody tr th {\n",
       "        vertical-align: top;\n",
       "    }\n",
       "\n",
       "    .dataframe thead th {\n",
       "        text-align: right;\n",
       "    }\n",
       "</style>\n",
       "<table border=\"1\" class=\"dataframe\">\n",
       "  <thead>\n",
       "    <tr style=\"text-align: right;\">\n",
       "      <th></th>\n",
       "      <th>SeniorCitizen</th>\n",
       "      <th>Partner</th>\n",
       "      <th>Dependents</th>\n",
       "      <th>tenure</th>\n",
       "      <th>OnlineSecurity</th>\n",
       "      <th>TechSupport</th>\n",
       "      <th>PaperlessBilling</th>\n",
       "      <th>MonthlyCharges</th>\n",
       "      <th>TotalCharges</th>\n",
       "      <th>InternetService_DSL</th>\n",
       "      <th>InternetService_Fiber optic</th>\n",
       "      <th>InternetService_No</th>\n",
       "      <th>Contract_Month-to-month</th>\n",
       "      <th>Contract_One year</th>\n",
       "      <th>Contract_Two year</th>\n",
       "      <th>PaymentMethod_Bank transfer (automatic)</th>\n",
       "      <th>PaymentMethod_Credit card (automatic)</th>\n",
       "      <th>PaymentMethod_Electronic check</th>\n",
       "      <th>tenure_group_Tenure_1</th>\n",
       "      <th>tenure_group_Tenure_over_5</th>\n",
       "    </tr>\n",
       "  </thead>\n",
       "  <tbody>\n",
       "    <tr>\n",
       "      <th>0</th>\n",
       "      <td>0.0</td>\n",
       "      <td>1.0</td>\n",
       "      <td>0.0</td>\n",
       "      <td>1.0</td>\n",
       "      <td>0.0</td>\n",
       "      <td>0.0</td>\n",
       "      <td>1.0</td>\n",
       "      <td>29.85</td>\n",
       "      <td>29.85</td>\n",
       "      <td>1.0</td>\n",
       "      <td>0.0</td>\n",
       "      <td>0.0</td>\n",
       "      <td>1.0</td>\n",
       "      <td>0.0</td>\n",
       "      <td>0.0</td>\n",
       "      <td>0.0</td>\n",
       "      <td>0.0</td>\n",
       "      <td>1.0</td>\n",
       "      <td>1.0</td>\n",
       "      <td>0.0</td>\n",
       "    </tr>\n",
       "    <tr>\n",
       "      <th>1</th>\n",
       "      <td>0.0</td>\n",
       "      <td>0.0</td>\n",
       "      <td>0.0</td>\n",
       "      <td>34.0</td>\n",
       "      <td>1.0</td>\n",
       "      <td>0.0</td>\n",
       "      <td>0.0</td>\n",
       "      <td>56.95</td>\n",
       "      <td>1889.50</td>\n",
       "      <td>1.0</td>\n",
       "      <td>0.0</td>\n",
       "      <td>0.0</td>\n",
       "      <td>0.0</td>\n",
       "      <td>1.0</td>\n",
       "      <td>0.0</td>\n",
       "      <td>0.0</td>\n",
       "      <td>0.0</td>\n",
       "      <td>0.0</td>\n",
       "      <td>0.0</td>\n",
       "      <td>0.0</td>\n",
       "    </tr>\n",
       "    <tr>\n",
       "      <th>2</th>\n",
       "      <td>0.0</td>\n",
       "      <td>0.0</td>\n",
       "      <td>0.0</td>\n",
       "      <td>2.0</td>\n",
       "      <td>1.0</td>\n",
       "      <td>0.0</td>\n",
       "      <td>1.0</td>\n",
       "      <td>53.85</td>\n",
       "      <td>108.15</td>\n",
       "      <td>1.0</td>\n",
       "      <td>0.0</td>\n",
       "      <td>0.0</td>\n",
       "      <td>1.0</td>\n",
       "      <td>0.0</td>\n",
       "      <td>0.0</td>\n",
       "      <td>0.0</td>\n",
       "      <td>0.0</td>\n",
       "      <td>0.0</td>\n",
       "      <td>1.0</td>\n",
       "      <td>0.0</td>\n",
       "    </tr>\n",
       "    <tr>\n",
       "      <th>3</th>\n",
       "      <td>0.0</td>\n",
       "      <td>0.0</td>\n",
       "      <td>0.0</td>\n",
       "      <td>45.0</td>\n",
       "      <td>1.0</td>\n",
       "      <td>1.0</td>\n",
       "      <td>0.0</td>\n",
       "      <td>42.30</td>\n",
       "      <td>1840.75</td>\n",
       "      <td>1.0</td>\n",
       "      <td>0.0</td>\n",
       "      <td>0.0</td>\n",
       "      <td>0.0</td>\n",
       "      <td>1.0</td>\n",
       "      <td>0.0</td>\n",
       "      <td>1.0</td>\n",
       "      <td>0.0</td>\n",
       "      <td>0.0</td>\n",
       "      <td>0.0</td>\n",
       "      <td>0.0</td>\n",
       "    </tr>\n",
       "    <tr>\n",
       "      <th>4</th>\n",
       "      <td>0.0</td>\n",
       "      <td>0.0</td>\n",
       "      <td>0.0</td>\n",
       "      <td>2.0</td>\n",
       "      <td>0.0</td>\n",
       "      <td>0.0</td>\n",
       "      <td>1.0</td>\n",
       "      <td>70.70</td>\n",
       "      <td>151.65</td>\n",
       "      <td>0.0</td>\n",
       "      <td>1.0</td>\n",
       "      <td>0.0</td>\n",
       "      <td>1.0</td>\n",
       "      <td>0.0</td>\n",
       "      <td>0.0</td>\n",
       "      <td>0.0</td>\n",
       "      <td>0.0</td>\n",
       "      <td>1.0</td>\n",
       "      <td>1.0</td>\n",
       "      <td>0.0</td>\n",
       "    </tr>\n",
       "  </tbody>\n",
       "</table>\n",
       "</div>"
      ],
      "text/plain": [
       "   SeniorCitizen  Partner  Dependents  tenure  OnlineSecurity  TechSupport  \\\n",
       "0            0.0      1.0         0.0     1.0             0.0          0.0   \n",
       "1            0.0      0.0         0.0    34.0             1.0          0.0   \n",
       "2            0.0      0.0         0.0     2.0             1.0          0.0   \n",
       "3            0.0      0.0         0.0    45.0             1.0          1.0   \n",
       "4            0.0      0.0         0.0     2.0             0.0          0.0   \n",
       "\n",
       "   PaperlessBilling  MonthlyCharges  TotalCharges  InternetService_DSL  \\\n",
       "0               1.0           29.85         29.85                  1.0   \n",
       "1               0.0           56.95       1889.50                  1.0   \n",
       "2               1.0           53.85        108.15                  1.0   \n",
       "3               0.0           42.30       1840.75                  1.0   \n",
       "4               1.0           70.70        151.65                  0.0   \n",
       "\n",
       "   InternetService_Fiber optic  InternetService_No  Contract_Month-to-month  \\\n",
       "0                          0.0                 0.0                      1.0   \n",
       "1                          0.0                 0.0                      0.0   \n",
       "2                          0.0                 0.0                      1.0   \n",
       "3                          0.0                 0.0                      0.0   \n",
       "4                          1.0                 0.0                      1.0   \n",
       "\n",
       "   Contract_One year  Contract_Two year  \\\n",
       "0                0.0                0.0   \n",
       "1                1.0                0.0   \n",
       "2                0.0                0.0   \n",
       "3                1.0                0.0   \n",
       "4                0.0                0.0   \n",
       "\n",
       "   PaymentMethod_Bank transfer (automatic)  \\\n",
       "0                                      0.0   \n",
       "1                                      0.0   \n",
       "2                                      0.0   \n",
       "3                                      1.0   \n",
       "4                                      0.0   \n",
       "\n",
       "   PaymentMethod_Credit card (automatic)  PaymentMethod_Electronic check  \\\n",
       "0                                    0.0                             1.0   \n",
       "1                                    0.0                             0.0   \n",
       "2                                    0.0                             0.0   \n",
       "3                                    0.0                             0.0   \n",
       "4                                    0.0                             1.0   \n",
       "\n",
       "   tenure_group_Tenure_1  tenure_group_Tenure_over_5  \n",
       "0                    1.0                         0.0  \n",
       "1                    0.0                         0.0  \n",
       "2                    1.0                         0.0  \n",
       "3                    0.0                         0.0  \n",
       "4                    1.0                         0.0  "
      ]
     },
     "execution_count": 12,
     "metadata": {},
     "output_type": "execute_result"
    }
   ],
   "source": [
    "# 使用统计检定方式进行特征筛选。\n",
    "#from sklearn import feature_selection\n",
    "from sklearn.feature_selection import SelectKBest\n",
    "from sklearn.feature_selection import f_classif\n",
    "\n",
    "X = df_model.copy().drop(['customerID','Churn'], axis=1)\n",
    "print(X.shape)\n",
    "y = df_model[target_col]\n",
    "\n",
    "# Hyper factor k=20 改变这个更换使用的特征数量，这里有可能会将哑变量给部分抽取，这样会导致模型的效果不好,带改良\n",
    "\n",
    "fs = SelectKBest(score_func=f_classif, k=20) #卡方检验的方式进行排序筛选特征,但此时是有哑变量的，所以事实上不是综述只有20,而是32列，前20个特征这里确实是提取了\n",
    "X_train_fs = fs.fit_transform(X,y)\n",
    "\n",
    "print(X_train_fs.shape)\n",
    "\n",
    "def SelectName(feature_data, model):\n",
    "    scores = model.scores_\n",
    "    indices = np.argsort(scores)[::-1]\n",
    "    return list(feature_data.columns.values[indices[0:model.k]])\n",
    "\n",
    "# 输出选择变量名称\n",
    "SelectName(X, fs)\n",
    "fea_name = [i for i in X.columns if i in SelectName(X,fs)]\n",
    "X_train = pd.DataFrame(X_train_fs,columns = fea_name)\n",
    "X_train.head()\n"
   ]
  },
  {
   "cell_type": "markdown",
   "id": "91dc924b",
   "metadata": {},
   "source": [
    "观察特征提取的结果，我们会发现，tenure被使用了两次，也就是最终的模型被用了两次，但是好在没有出现哑变量被部分截取的情况"
   ]
  },
  {
   "cell_type": "code",
   "execution_count": null,
   "id": "af383675",
   "metadata": {},
   "outputs": [
    {
     "name": "stdout",
     "output_type": "stream",
     "text": [
      "(5625, 20) (1407, 20) (5625, 1) (1407, 1)\n"
     ]
    }
   ],
   "source": [
    "# 模型建立和评估\n",
    "# 首先使用分层抽样的方式将数据划分训练集和测试集。\n",
    "# 重新划分\n",
    "# 分层抽样\n",
    "from sklearn.model_selection import train_test_split\n",
    "from sklearn.preprocessing import StandardScaler\n",
    "X_train, X_test, y_train, y_test = train_test_split(X_train, y, test_size=0.2, random_state=0, stratify=y)\n",
    "print(X_train.shape, X_test.shape, y_train.shape, y_test.shape)\n",
    "\n",
    "#修正索引\n",
    "for i in[X_train, X_test, y_train, y_test]:\n",
    "\n",
    "    i.index = range(i.shape[0])\n",
    "\n",
    "# 保存标准化训练和测试数据\n",
    "st= StandardScaler()\n",
    "# 先计算出标准化的新的数值型数据\n",
    "num_scaled_train= pd.DataFrame(st.fit_transform(X_train[num_cols]), columns=num_cols)\n",
    "num_scaled_test= pd.DataFrame(st.transform(X_test[num_cols]), columns=num_cols)\n",
    "# 然后将这部分数据替换掉之前的为标准化的数据\n",
    "X_train_scaled= pd.concat([X_train.drop(num_cols, axis= 1), num_scaled_train], axis= 1)\n",
    "X_test_scaled= pd.concat([X_test.drop(num_cols, axis= 1), num_scaled_test], axis= 1)"
   ]
  },
  {
   "cell_type": "code",
   "execution_count": null,
   "id": "c77369c1",
   "metadata": {},
   "outputs": [
    {
     "ename": "NameError",
     "evalue": "name 'X' is not defined",
     "output_type": "error",
     "traceback": [
      "\u001b[1;31m---------------------------------------------------------------------------\u001b[0m",
      "\u001b[1;31mNameError\u001b[0m                                 Traceback (most recent call last)",
      "\u001b[1;32md:\\Data\\UniversityLearn\\Junior\\Semester1\\data_mine\\lab\\lab1\\improve\\lab1.ipynb Cell 15\u001b[0m line \u001b[0;36m7\n\u001b[0;32m     <a href='vscode-notebook-cell:/d%3A/Data/UniversityLearn/Junior/Semester1/data_mine/lab/lab1/improve/lab1.ipynb#X20sZmlsZQ%3D%3D?line=70'>71</a>\u001b[0m lgbm_c \u001b[39m=\u001b[39m LGBMClassifier(boosting_type\u001b[39m=\u001b[39m\u001b[39m'\u001b[39m\u001b[39mgbdt\u001b[39m\u001b[39m'\u001b[39m, n_estimators\u001b[39m=\u001b[39m\u001b[39m100\u001b[39m, random_state\u001b[39m=\u001b[39m\u001b[39m0\u001b[39m) \n\u001b[0;32m     <a href='vscode-notebook-cell:/d%3A/Data/UniversityLearn/Junior/Semester1/data_mine/lab/lab1/improve/lab1.ipynb#X20sZmlsZQ%3D%3D?line=72'>73</a>\u001b[0m xgc \u001b[39m=\u001b[39m XGBClassifier(n_estimators\u001b[39m=\u001b[39m\u001b[39m100\u001b[39m, eta\u001b[39m=\u001b[39m\u001b[39m0.02\u001b[39m, max_depth\u001b[39m=\u001b[39m\u001b[39m15\u001b[39m, random_state\u001b[39m=\u001b[39m\u001b[39m0\u001b[39m, learning_rate\u001b[39m=\u001b[39m\u001b[39m0.001\u001b[39m)\n\u001b[1;32m---> <a href='vscode-notebook-cell:/d%3A/Data/UniversityLearn/Junior/Semester1/data_mine/lab/lab1/improve/lab1.ipynb#X20sZmlsZQ%3D%3D?line=74'>75</a>\u001b[0m model1 \u001b[39m=\u001b[39m model_report(logit, X, y,\n\u001b[0;32m     <a href='vscode-notebook-cell:/d%3A/Data/UniversityLearn/Junior/Semester1/data_mine/lab/lab1/improve/lab1.ipynb#X20sZmlsZQ%3D%3D?line=75'>76</a>\u001b[0m                       \u001b[39m\"\u001b[39m\u001b[39mLogistic Regression\u001b[39m\u001b[39m\"\u001b[39m)\n\u001b[0;32m     <a href='vscode-notebook-cell:/d%3A/Data/UniversityLearn/Junior/Semester1/data_mine/lab/lab1/improve/lab1.ipynb#X20sZmlsZQ%3D%3D?line=76'>77</a>\u001b[0m model3 \u001b[39m=\u001b[39m model_report(svc_lin, X, y,\n\u001b[0;32m     <a href='vscode-notebook-cell:/d%3A/Data/UniversityLearn/Junior/Semester1/data_mine/lab/lab1/improve/lab1.ipynb#X20sZmlsZQ%3D%3D?line=77'>78</a>\u001b[0m                       \u001b[39m\"\u001b[39m\u001b[39mSVM Classifier Linear\u001b[39m\u001b[39m\"\u001b[39m)\n\u001b[0;32m     <a href='vscode-notebook-cell:/d%3A/Data/UniversityLearn/Junior/Semester1/data_mine/lab/lab1/improve/lab1.ipynb#X20sZmlsZQ%3D%3D?line=78'>79</a>\u001b[0m model4 \u001b[39m=\u001b[39m model_report(svc_rbf, X, y,\n\u001b[0;32m     <a href='vscode-notebook-cell:/d%3A/Data/UniversityLearn/Junior/Semester1/data_mine/lab/lab1/improve/lab1.ipynb#X20sZmlsZQ%3D%3D?line=79'>80</a>\u001b[0m                       \u001b[39m\"\u001b[39m\u001b[39mSVM Classifier RBF\u001b[39m\u001b[39m\"\u001b[39m)\n",
      "\u001b[1;31mNameError\u001b[0m: name 'X' is not defined"
     ]
    }
   ],
   "source": [
    "# 建模\n",
    "from sklearn.linear_model import LogisticRegression\n",
    "from sklearn.neighbors import KNeighborsClassifier\n",
    "from sklearn.tree import DecisionTreeClassifier\n",
    "from sklearn import tree \n",
    "from sklearn.ensemble import RandomForestClassifier\n",
    "from sklearn.naive_bayes import GaussianNB\n",
    "from sklearn.neural_network import MLPClassifier\n",
    "from sklearn.svm import SVC\n",
    "from lightgbm import LGBMClassifier\n",
    "from xgboost import XGBClassifier\n",
    "\n",
    "# 模型评估\n",
    "from sklearn.model_selection import train_test_split, GridSearchCV, cross_val_score\n",
    "from sklearn.metrics import confusion_matrix, accuracy_score, classification_report\n",
    "from sklearn.metrics import roc_auc_score, roc_curve\n",
    "from sklearn.metrics import recall_score, precision_score, f1_score, cohen_kappa_score\n",
    "\n",
    "# 训练模型并且输出模型的各个结果指标函数\n",
    "def model_report(model, X, y, name) :\n",
    "    # model.fit(X_train, y_train) # 训练模型\n",
    "    # y_pred  = model.predict(X_test) # 用模型预测一下y值\n",
    "    # y_score = model.predict_proba(X_test)[:,1] # 找出了所有预测为1的结果的数量\n",
    "    \n",
    "    # 评估指标\n",
    "    \"\"\"\n",
    "    这些是原本的方法，没有使用10折交叉检验\n",
    "    accuracy = accuracy_score(y_test, y_pred)\n",
    "    recallscore = recall_score(y_test, y_pred)\n",
    "    precision = precision_score(y_test, y_pred)\n",
    "    roc_auc = roc_auc_score(y_test, y_score) # 计算roc分数\n",
    "    f1score = f1_score(y_test, y_pred) # 计算F1值\n",
    "    kappa_metric = cohen_kappa_score(y_test, y_pred)\n",
    "    \"\"\"\n",
    "    # 使用5折交叉检验的版本\n",
    "    accuracy = cross_val_score(model, X, y, cv=5, scoring='accuracy').mean\n",
    "    recallscore = cross_val_score(model, X, y, cv=5, scoring='recall').mean\n",
    "    precision = cross_val_score(model, X, y, cv=5, scoring='precision').mean\n",
    "    roc_auc = cross_val_score(model, X, y, cv=5, scoring='roc_auc').mean\n",
    "    f1score = cross_val_score(model, X, y, cv=5, scoring='f1').mean\n",
    "\n",
    "    # 保存数据\n",
    "    df = pd.DataFrame({\"Model\"           : [name],\n",
    "                       \"Accuracy_score\"  : [accuracy],\n",
    "                       \"Recall_score\"    : [recallscore],\n",
    "                       \"Precision\"       : [precision],\n",
    "                       \"f1_score\"        : [f1score],\n",
    "                       \"Area_under_curve\": [roc_auc],\n",
    "                    #    \"Kappa_metric\"    : [kappa_metric],\n",
    "                      })\n",
    "    return df\n",
    "\n",
    "# 实例化模型\n",
    "logit = LogisticRegression() \n",
    "\n",
    "knn = KNeighborsClassifier(n_neighbors=5) # knn的系数\n",
    "\n",
    "svc_lin  = SVC(kernel='linear', random_state=0, probability=True) \n",
    "\n",
    "svc_rbf  = SVC(kernel='rbf', random_state=0, probability=True) \n",
    "\n",
    "mlp_model = MLPClassifier(hidden_layer_sizes=(8,), alpha=0.05, max_iter=50000, \n",
    "                          activation='logistic', random_state=0)\n",
    "\n",
    "gnb = GaussianNB()\n",
    "\n",
    "decision_tree = DecisionTreeClassifier(criterion='entropy', max_depth=5, random_state=0)  \n",
    "\n",
    "rfc = RandomForestClassifier(n_estimators=100, random_state=0) \n",
    "\n",
    "lgbm_c = LGBMClassifier(boosting_type='gbdt', n_estimators=100, random_state=0) \n",
    "\n",
    "xgc = XGBClassifier(n_estimators=100, eta=0.02, max_depth=15, random_state=0, learning_rate=0.001)\n",
    "\n",
    "model1 = model_report(logit, X, y,\n",
    "                      \"Logistic Regression\")\n",
    "model3 = model_report(svc_lin, X, y,\n",
    "                      \"SVM Classifier Linear\")\n",
    "model4 = model_report(svc_rbf, X, y,\n",
    "                      \"SVM Classifier RBF\")\n",
    "model5 = model_report(mlp_model, X, y,\n",
    "                      \"MLP Classifier\")\n",
    "model6 = model_report(gnb, X, y,\n",
    "                      \"Naive Bayes\")\n",
    "model7 = model_report(decision_tree, X, y,\n",
    "                      \"Decision Tree\")\n",
    "model8 = model_report(rfc, X, y,\n",
    "                      \"Random Forest Classifier\")\n",
    "model9 = model_report(lgbm_c, X, y,\n",
    "                      \"LGBM Classifier\") \n",
    "model10 = model_report(xgc, X, y,\n",
    "                      \"XGBoost Classifier\")\n",
    "\n",
    "# 调用函数\n",
    "# model1 = model_report(logit, X_train_scaled, X_test_scaled, y_train, y_test,\n",
    "#                       \"Logistic Regression\")\n",
    "# # model2 = model_report(knn, X_train_scaled, X_test_scaled, y_train, y_test,\n",
    "# #                       \"KNN Classifier\")\n",
    "# model3 = model_report(svc_lin, X_train_scaled, X_test_scaled, y_train, y_test,\n",
    "#                       \"SVM Classifier Linear\")\n",
    "# model4 = model_report(svc_rbf, X_train_scaled, X_test_scaled, y_train, y_test,\n",
    "#                       \"SVM Classifier RBF\")\n",
    "# model5 = model_report(mlp_model, X_train_scaled, X_test_scaled, y_train, y_test,\n",
    "#                       \"MLP Classifier\")\n",
    "# model6 = model_report(gnb, X_train, X_test, y_train, y_test,\n",
    "#                       \"Naive Bayes\")\n",
    "# model7 = model_report(decision_tree, X_train, X_test, y_train, y_test,\n",
    "#                       \"Decision Tree\")\n",
    "# model8 = model_report(rfc, X_train, X_test, y_train, y_test,\n",
    "#                       \"Random Forest Classifier\")\n",
    "# model9 = model_report(lgbm_c, X_train, X_test, y_train, y_test,\n",
    "#                       \"LGBM Classifier\") \n",
    "# model10 = model_report(xgc, X_train, X_test, y_train, y_test,\n",
    "#                       \"XGBoost Classifier\")\n",
    "\n",
    "# 将结果绘制成表格\n",
    "model_performances = pd.concat([model1,  model3,\n",
    "                                model4, model5, model6,\n",
    "                                model7, model8, model9, model10], axis=0).reset_index()\n",
    "\n",
    "model_performances = model_performances.drop(columns=\"index\",axis =1)\n",
    "\n",
    "table  = ff.create_table(np.round(model_performances, 4))\n",
    "\n",
    "py.offline.iplot(table) "
   ]
  },
  {
   "cell_type": "code",
   "execution_count": null,
   "id": "da9332a7",
   "metadata": {},
   "outputs": [
    {
     "name": "stdout",
     "output_type": "stream",
     "text": [
      "{'criterion': 'entropy', 'max_depth': 5, 'splitter': 'best'}\n",
      "0.6014522720158608\n",
      "测试集：n               precision    recall  f1-score   support\n",
      "\n",
      "           0       0.84      0.88      0.86      1033\n",
      "           1       0.62      0.53      0.57       374\n",
      "\n",
      "    accuracy                           0.79      1407\n",
      "   macro avg       0.73      0.71      0.71      1407\n",
      "weighted avg       0.78      0.79      0.78      1407\n",
      "\n"
     ]
    }
   ],
   "source": [
    "# 我们也可以对模型进行进一步优化，比如对决策树参数进行调优。\n",
    "from sklearn.tree import DecisionTreeClassifier\n",
    "from sklearn.model_selection import  GridSearchCV\n",
    "from sklearn.metrics import confusion_matrix, accuracy_score, classification_report\n",
    "parameters = { 'splitter': ( 'best', 'random'),\n",
    "              'criterion': ( \"gini\", \"entropy\"),\n",
    "              \"max_depth\": [* range( 3, 20)],\n",
    "}\n",
    "\n",
    "clf = DecisionTreeClassifier(random_state= 25)\n",
    "\n",
    "GS = GridSearchCV(clf, parameters, scoring= 'f1', cv= 10)\n",
    "GS.fit(X_train, y_train)\n",
    "print(GS.best_params_)\n",
    "print(GS.best_score_)\n",
    "clf = GS.best_estimator_\n",
    "test_pred = clf.predict(X_test)\n",
    "print('测试集：n', classification_report(y_test, test_pred))"
   ]
  },
  {
   "cell_type": "code",
   "execution_count": null,
   "id": "0dd16fba",
   "metadata": {},
   "outputs": [
    {
     "name": "stderr",
     "output_type": "stream",
     "text": [
      "Warning: Could not load \"E:\\VirtualSpace\\python_env\\conda\\data_analysis\\Library\\bin\\gvplugin_pango.dll\" - It was found, so perhaps one of its dependents was not.  Try ldd.\n"
     ]
    },
    {
     "data": {
      "image/svg+xml": [
       "<?xml version=\"1.0\" encoding=\"UTF-8\" standalone=\"no\"?>\n",
       "<!DOCTYPE svg PUBLIC \"-//W3C//DTD SVG 1.1//EN\"\n",
       " \"http://www.w3.org/Graphics/SVG/1.1/DTD/svg11.dtd\">\n",
       "<!-- Generated by graphviz version 2.50.0 (0)\n",
       " -->\n",
       "<!-- Title: Tree Pages: 1 -->\n",
       "<svg width=\"1152pt\" height=\"467pt\"\n",
       " viewBox=\"0.00 0.00 1151.91 467.20\" xmlns=\"http://www.w3.org/2000/svg\" xmlns:xlink=\"http://www.w3.org/1999/xlink\">\n",
       "<g id=\"graph0\" class=\"graph\" transform=\"scale(1 1) rotate(0) translate(4 463.2)\">\n",
       "<title>Tree</title>\n",
       "<polygon fill=\"white\" stroke=\"transparent\" points=\"-4,4 -4,-463.2 1147.91,-463.2 1147.91,4 -4,4\"/>\n",
       "<!-- 0 -->\n",
       "<g id=\"node1\" class=\"node\">\n",
       "<title>0</title>\n",
       "<path fill=\"#eeaf81\" stroke=\"black\" d=\"M627.67,-459.2C627.67,-459.2 432.45,-459.2 432.45,-459.2 426.45,-459.2 420.45,-453.2 420.45,-447.2 420.45,-447.2 420.45,-379.2 420.45,-379.2 420.45,-373.2 426.45,-367.2 432.45,-367.2 432.45,-367.2 627.67,-367.2 627.67,-367.2 633.67,-367.2 639.67,-373.2 639.67,-379.2 639.67,-379.2 639.67,-447.2 639.67,-447.2 639.67,-453.2 633.67,-459.2 627.67,-459.2\"/>\n",
       "<text text-anchor=\"middle\" x=\"530.06\" y=\"-442.6\" font-family=\"Helvetica,sans-Serif\" font-size=\"14.00\">Contract_Month&#45;to&#45;month &lt;= 0.5</text>\n",
       "<text text-anchor=\"middle\" x=\"530.06\" y=\"-425.8\" font-family=\"Helvetica,sans-Serif\" font-size=\"14.00\">entropy = 0.835</text>\n",
       "<text text-anchor=\"middle\" x=\"530.06\" y=\"-409\" font-family=\"Helvetica,sans-Serif\" font-size=\"14.00\">samples = 5625</text>\n",
       "<text text-anchor=\"middle\" x=\"530.06\" y=\"-392.2\" font-family=\"Helvetica,sans-Serif\" font-size=\"14.00\">value = [4130, 1495]</text>\n",
       "<text text-anchor=\"middle\" x=\"530.06\" y=\"-375.4\" font-family=\"Helvetica,sans-Serif\" font-size=\"14.00\">class = not_churn</text>\n",
       "</g>\n",
       "<!-- 1 -->\n",
       "<g id=\"node2\" class=\"node\">\n",
       "<title>1</title>\n",
       "<path fill=\"#e78a47\" stroke=\"black\" d=\"M478.45,-331.2C478.45,-331.2 317.67,-331.2 317.67,-331.2 311.67,-331.2 305.67,-325.2 305.67,-319.2 305.67,-319.2 305.67,-251.2 305.67,-251.2 305.67,-245.2 311.67,-239.2 317.67,-239.2 317.67,-239.2 478.45,-239.2 478.45,-239.2 484.45,-239.2 490.45,-245.2 490.45,-251.2 490.45,-251.2 490.45,-319.2 490.45,-319.2 490.45,-325.2 484.45,-331.2 478.45,-331.2\"/>\n",
       "<text text-anchor=\"middle\" x=\"398.06\" y=\"-314.6\" font-family=\"Helvetica,sans-Serif\" font-size=\"14.00\">MonthlyCharges &lt;= 93.675</text>\n",
       "<text text-anchor=\"middle\" x=\"398.06\" y=\"-297.8\" font-family=\"Helvetica,sans-Serif\" font-size=\"14.00\">entropy = 0.35</text>\n",
       "<text text-anchor=\"middle\" x=\"398.06\" y=\"-281\" font-family=\"Helvetica,sans-Serif\" font-size=\"14.00\">samples = 2512</text>\n",
       "<text text-anchor=\"middle\" x=\"398.06\" y=\"-264.2\" font-family=\"Helvetica,sans-Serif\" font-size=\"14.00\">value = [2347, 165]</text>\n",
       "<text text-anchor=\"middle\" x=\"398.06\" y=\"-247.4\" font-family=\"Helvetica,sans-Serif\" font-size=\"14.00\">class = not_churn</text>\n",
       "</g>\n",
       "<!-- 0&#45;&gt;1 -->\n",
       "<g id=\"edge1\" class=\"edge\">\n",
       "<title>0&#45;&gt;1</title>\n",
       "<path fill=\"none\" stroke=\"black\" d=\"M482.78,-367.07C473.11,-357.84 462.86,-348.05 452.95,-338.6\"/>\n",
       "<polygon fill=\"black\" stroke=\"black\" points=\"455.11,-335.81 445.46,-331.44 450.27,-340.88 455.11,-335.81\"/>\n",
       "<text text-anchor=\"middle\" x=\"446.04\" y=\"-352.23\" font-family=\"Helvetica,sans-Serif\" font-size=\"14.00\">True</text>\n",
       "</g>\n",
       "<!-- 8 -->\n",
       "<g id=\"node9\" class=\"node\">\n",
       "<title>8</title>\n",
       "<path fill=\"#f8dfcd\" stroke=\"black\" d=\"M814.46,-331.2C814.46,-331.2 611.66,-331.2 611.66,-331.2 605.66,-331.2 599.66,-325.2 599.66,-319.2 599.66,-319.2 599.66,-251.2 599.66,-251.2 599.66,-245.2 605.66,-239.2 611.66,-239.2 611.66,-239.2 814.46,-239.2 814.46,-239.2 820.46,-239.2 826.46,-245.2 826.46,-251.2 826.46,-251.2 826.46,-319.2 826.46,-319.2 826.46,-325.2 820.46,-331.2 814.46,-331.2\"/>\n",
       "<text text-anchor=\"middle\" x=\"713.06\" y=\"-314.6\" font-family=\"Helvetica,sans-Serif\" font-size=\"14.00\">InternetService_Fiber optic &lt;= 0.5</text>\n",
       "<text text-anchor=\"middle\" x=\"713.06\" y=\"-297.8\" font-family=\"Helvetica,sans-Serif\" font-size=\"14.00\">entropy = 0.985</text>\n",
       "<text text-anchor=\"middle\" x=\"713.06\" y=\"-281\" font-family=\"Helvetica,sans-Serif\" font-size=\"14.00\">samples = 3113</text>\n",
       "<text text-anchor=\"middle\" x=\"713.06\" y=\"-264.2\" font-family=\"Helvetica,sans-Serif\" font-size=\"14.00\">value = [1783, 1330]</text>\n",
       "<text text-anchor=\"middle\" x=\"713.06\" y=\"-247.4\" font-family=\"Helvetica,sans-Serif\" font-size=\"14.00\">class = not_churn</text>\n",
       "</g>\n",
       "<!-- 0&#45;&gt;8 -->\n",
       "<g id=\"edge8\" class=\"edge\">\n",
       "<title>0&#45;&gt;8</title>\n",
       "<path fill=\"none\" stroke=\"black\" d=\"M595.61,-367.07C609.76,-357.33 624.8,-346.97 639.24,-337.03\"/>\n",
       "<polygon fill=\"black\" stroke=\"black\" points=\"641.41,-339.78 647.66,-331.23 637.44,-334.02 641.41,-339.78\"/>\n",
       "<text text-anchor=\"middle\" x=\"643.12\" y=\"-351.61\" font-family=\"Helvetica,sans-Serif\" font-size=\"14.00\">False</text>\n",
       "</g>\n",
       "<!-- 2 -->\n",
       "<g id=\"node3\" class=\"node\">\n",
       "<title>2</title>\n",
       "<path fill=\"#e68641\" stroke=\"black\" d=\"M284.92,-203.2C284.92,-203.2 131.2,-203.2 131.2,-203.2 125.2,-203.2 119.2,-197.2 119.2,-191.2 119.2,-191.2 119.2,-123.2 119.2,-123.2 119.2,-117.2 125.2,-111.2 131.2,-111.2 131.2,-111.2 284.92,-111.2 284.92,-111.2 290.92,-111.2 296.92,-117.2 296.92,-123.2 296.92,-123.2 296.92,-191.2 296.92,-191.2 296.92,-197.2 290.92,-203.2 284.92,-203.2\"/>\n",
       "<text text-anchor=\"middle\" x=\"208.06\" y=\"-186.6\" font-family=\"Helvetica,sans-Serif\" font-size=\"14.00\">Contract_Two year &lt;= 0.5</text>\n",
       "<text text-anchor=\"middle\" x=\"208.06\" y=\"-169.8\" font-family=\"Helvetica,sans-Serif\" font-size=\"14.00\">entropy = 0.24</text>\n",
       "<text text-anchor=\"middle\" x=\"208.06\" y=\"-153\" font-family=\"Helvetica,sans-Serif\" font-size=\"14.00\">samples = 1898</text>\n",
       "<text text-anchor=\"middle\" x=\"208.06\" y=\"-136.2\" font-family=\"Helvetica,sans-Serif\" font-size=\"14.00\">value = [1823, 75]</text>\n",
       "<text text-anchor=\"middle\" x=\"208.06\" y=\"-119.4\" font-family=\"Helvetica,sans-Serif\" font-size=\"14.00\">class = not_churn</text>\n",
       "</g>\n",
       "<!-- 1&#45;&gt;2 -->\n",
       "<g id=\"edge2\" class=\"edge\">\n",
       "<title>1&#45;&gt;2</title>\n",
       "<path fill=\"none\" stroke=\"black\" d=\"M330,-239.07C315.32,-229.33 299.69,-218.97 284.7,-209.03\"/>\n",
       "<polygon fill=\"black\" stroke=\"black\" points=\"286.23,-205.84 275.96,-203.23 282.36,-211.67 286.23,-205.84\"/>\n",
       "</g>\n",
       "<!-- 5 -->\n",
       "<g id=\"node6\" class=\"node\">\n",
       "<title>5</title>\n",
       "<path fill=\"#e9975b\" stroke=\"black\" d=\"M449.18,-203.2C449.18,-203.2 346.94,-203.2 346.94,-203.2 340.94,-203.2 334.94,-197.2 334.94,-191.2 334.94,-191.2 334.94,-123.2 334.94,-123.2 334.94,-117.2 340.94,-111.2 346.94,-111.2 346.94,-111.2 449.18,-111.2 449.18,-111.2 455.18,-111.2 461.18,-117.2 461.18,-123.2 461.18,-123.2 461.18,-191.2 461.18,-191.2 461.18,-197.2 455.18,-203.2 449.18,-203.2\"/>\n",
       "<text text-anchor=\"middle\" x=\"398.06\" y=\"-186.6\" font-family=\"Helvetica,sans-Serif\" font-size=\"14.00\">tenure &lt;= 70.5</text>\n",
       "<text text-anchor=\"middle\" x=\"398.06\" y=\"-169.8\" font-family=\"Helvetica,sans-Serif\" font-size=\"14.00\">entropy = 0.601</text>\n",
       "<text text-anchor=\"middle\" x=\"398.06\" y=\"-153\" font-family=\"Helvetica,sans-Serif\" font-size=\"14.00\">samples = 614</text>\n",
       "<text text-anchor=\"middle\" x=\"398.06\" y=\"-136.2\" font-family=\"Helvetica,sans-Serif\" font-size=\"14.00\">value = [524, 90]</text>\n",
       "<text text-anchor=\"middle\" x=\"398.06\" y=\"-119.4\" font-family=\"Helvetica,sans-Serif\" font-size=\"14.00\">class = not_churn</text>\n",
       "</g>\n",
       "<!-- 1&#45;&gt;5 -->\n",
       "<g id=\"edge5\" class=\"edge\">\n",
       "<title>1&#45;&gt;5</title>\n",
       "<path fill=\"none\" stroke=\"black\" d=\"M398.06,-239.07C398.06,-230.83 398.06,-222.16 398.06,-213.67\"/>\n",
       "<polygon fill=\"black\" stroke=\"black\" points=\"401.56,-213.44 398.06,-203.44 394.56,-213.44 401.56,-213.44\"/>\n",
       "</g>\n",
       "<!-- 3 -->\n",
       "<g id=\"node4\" class=\"node\">\n",
       "<title>3</title>\n",
       "<path fill=\"#e78a47\" stroke=\"black\" d=\"M114.18,-75.3C114.18,-75.3 11.94,-75.3 11.94,-75.3 5.94,-75.3 -0.06,-69.3 -0.06,-63.3 -0.06,-63.3 -0.06,-11.9 -0.06,-11.9 -0.06,-5.9 5.94,0.1 11.94,0.1 11.94,0.1 114.18,0.1 114.18,0.1 120.18,0.1 126.18,-5.9 126.18,-11.9 126.18,-11.9 126.18,-63.3 126.18,-63.3 126.18,-69.3 120.18,-75.3 114.18,-75.3\"/>\n",
       "<text text-anchor=\"middle\" x=\"63.06\" y=\"-58.6\" font-family=\"Helvetica,sans-Serif\" font-size=\"14.00\">entropy = 0.353</text>\n",
       "<text text-anchor=\"middle\" x=\"63.06\" y=\"-41.8\" font-family=\"Helvetica,sans-Serif\" font-size=\"14.00\">samples = 870</text>\n",
       "<text text-anchor=\"middle\" x=\"63.06\" y=\"-25\" font-family=\"Helvetica,sans-Serif\" font-size=\"14.00\">value = [812, 58]</text>\n",
       "<text text-anchor=\"middle\" x=\"63.06\" y=\"-8.2\" font-family=\"Helvetica,sans-Serif\" font-size=\"14.00\">class = not_churn</text>\n",
       "</g>\n",
       "<!-- 2&#45;&gt;3 -->\n",
       "<g id=\"edge3\" class=\"edge\">\n",
       "<title>2&#45;&gt;3</title>\n",
       "<path fill=\"none\" stroke=\"black\" d=\"M152.41,-111.07C140.6,-101.49 128.16,-91.4 116.44,-81.89\"/>\n",
       "<polygon fill=\"black\" stroke=\"black\" points=\"118.43,-79 108.45,-75.42 114.02,-84.43 118.43,-79\"/>\n",
       "</g>\n",
       "<!-- 4 -->\n",
       "<g id=\"node5\" class=\"node\">\n",
       "<title>4</title>\n",
       "<path fill=\"#e5833c\" stroke=\"black\" d=\"M259.76,-75.3C259.76,-75.3 156.36,-75.3 156.36,-75.3 150.36,-75.3 144.36,-69.3 144.36,-63.3 144.36,-63.3 144.36,-11.9 144.36,-11.9 144.36,-5.9 150.36,0.1 156.36,0.1 156.36,0.1 259.76,0.1 259.76,0.1 265.76,0.1 271.76,-5.9 271.76,-11.9 271.76,-11.9 271.76,-63.3 271.76,-63.3 271.76,-69.3 265.76,-75.3 259.76,-75.3\"/>\n",
       "<text text-anchor=\"middle\" x=\"208.06\" y=\"-58.6\" font-family=\"Helvetica,sans-Serif\" font-size=\"14.00\">entropy = 0.122</text>\n",
       "<text text-anchor=\"middle\" x=\"208.06\" y=\"-41.8\" font-family=\"Helvetica,sans-Serif\" font-size=\"14.00\">samples = 1028</text>\n",
       "<text text-anchor=\"middle\" x=\"208.06\" y=\"-25\" font-family=\"Helvetica,sans-Serif\" font-size=\"14.00\">value = [1011, 17]</text>\n",
       "<text text-anchor=\"middle\" x=\"208.06\" y=\"-8.2\" font-family=\"Helvetica,sans-Serif\" font-size=\"14.00\">class = not_churn</text>\n",
       "</g>\n",
       "<!-- 2&#45;&gt;4 -->\n",
       "<g id=\"edge4\" class=\"edge\">\n",
       "<title>2&#45;&gt;4</title>\n",
       "<path fill=\"none\" stroke=\"black\" d=\"M208.06,-111.07C208.06,-102.69 208.06,-93.91 208.06,-85.48\"/>\n",
       "<polygon fill=\"black\" stroke=\"black\" points=\"211.56,-85.42 208.06,-75.42 204.56,-85.42 211.56,-85.42\"/>\n",
       "</g>\n",
       "<!-- 6 -->\n",
       "<g id=\"node7\" class=\"node\">\n",
       "<title>6</title>\n",
       "<path fill=\"#eb9d66\" stroke=\"black\" d=\"M404.18,-75.3C404.18,-75.3 301.94,-75.3 301.94,-75.3 295.94,-75.3 289.94,-69.3 289.94,-63.3 289.94,-63.3 289.94,-11.9 289.94,-11.9 289.94,-5.9 295.94,0.1 301.94,0.1 301.94,0.1 404.18,0.1 404.18,0.1 410.18,0.1 416.18,-5.9 416.18,-11.9 416.18,-11.9 416.18,-63.3 416.18,-63.3 416.18,-69.3 410.18,-75.3 404.18,-75.3\"/>\n",
       "<text text-anchor=\"middle\" x=\"353.06\" y=\"-58.6\" font-family=\"Helvetica,sans-Serif\" font-size=\"14.00\">entropy = 0.69</text>\n",
       "<text text-anchor=\"middle\" x=\"353.06\" y=\"-41.8\" font-family=\"Helvetica,sans-Serif\" font-size=\"14.00\">samples = 450</text>\n",
       "<text text-anchor=\"middle\" x=\"353.06\" y=\"-25\" font-family=\"Helvetica,sans-Serif\" font-size=\"14.00\">value = [367, 83]</text>\n",
       "<text text-anchor=\"middle\" x=\"353.06\" y=\"-8.2\" font-family=\"Helvetica,sans-Serif\" font-size=\"14.00\">class = not_churn</text>\n",
       "</g>\n",
       "<!-- 5&#45;&gt;6 -->\n",
       "<g id=\"edge6\" class=\"edge\">\n",
       "<title>5&#45;&gt;6</title>\n",
       "<path fill=\"none\" stroke=\"black\" d=\"M380.79,-111.07C377.51,-102.5 374.08,-93.53 370.79,-84.93\"/>\n",
       "<polygon fill=\"black\" stroke=\"black\" points=\"373.99,-83.5 367.15,-75.42 367.45,-86.01 373.99,-83.5\"/>\n",
       "</g>\n",
       "<!-- 7 -->\n",
       "<g id=\"node8\" class=\"node\">\n",
       "<title>7</title>\n",
       "<path fill=\"#e68742\" stroke=\"black\" d=\"M548.18,-75.3C548.18,-75.3 445.94,-75.3 445.94,-75.3 439.94,-75.3 433.94,-69.3 433.94,-63.3 433.94,-63.3 433.94,-11.9 433.94,-11.9 433.94,-5.9 439.94,0.1 445.94,0.1 445.94,0.1 548.18,0.1 548.18,0.1 554.18,0.1 560.18,-5.9 560.18,-11.9 560.18,-11.9 560.18,-63.3 560.18,-63.3 560.18,-69.3 554.18,-75.3 548.18,-75.3\"/>\n",
       "<text text-anchor=\"middle\" x=\"497.06\" y=\"-58.6\" font-family=\"Helvetica,sans-Serif\" font-size=\"14.00\">entropy = 0.254</text>\n",
       "<text text-anchor=\"middle\" x=\"497.06\" y=\"-41.8\" font-family=\"Helvetica,sans-Serif\" font-size=\"14.00\">samples = 164</text>\n",
       "<text text-anchor=\"middle\" x=\"497.06\" y=\"-25\" font-family=\"Helvetica,sans-Serif\" font-size=\"14.00\">value = [157, 7]</text>\n",
       "<text text-anchor=\"middle\" x=\"497.06\" y=\"-8.2\" font-family=\"Helvetica,sans-Serif\" font-size=\"14.00\">class = not_churn</text>\n",
       "</g>\n",
       "<!-- 5&#45;&gt;7 -->\n",
       "<g id=\"edge7\" class=\"edge\">\n",
       "<title>5&#45;&gt;7</title>\n",
       "<path fill=\"none\" stroke=\"black\" d=\"M436.05,-111.07C443.73,-101.95 451.8,-92.37 459.46,-83.27\"/>\n",
       "<polygon fill=\"black\" stroke=\"black\" points=\"462.3,-85.32 466.07,-75.42 456.95,-80.81 462.3,-85.32\"/>\n",
       "</g>\n",
       "<!-- 9 -->\n",
       "<g id=\"node10\" class=\"node\">\n",
       "<title>9</title>\n",
       "<path fill=\"#efb489\" stroke=\"black\" d=\"M769.05,-203.2C769.05,-203.2 657.07,-203.2 657.07,-203.2 651.07,-203.2 645.07,-197.2 645.07,-191.2 645.07,-191.2 645.07,-123.2 645.07,-123.2 645.07,-117.2 651.07,-111.2 657.07,-111.2 657.07,-111.2 769.05,-111.2 769.05,-111.2 775.05,-111.2 781.05,-117.2 781.05,-123.2 781.05,-123.2 781.05,-191.2 781.05,-191.2 781.05,-197.2 775.05,-203.2 769.05,-203.2\"/>\n",
       "<text text-anchor=\"middle\" x=\"713.06\" y=\"-186.6\" font-family=\"Helvetica,sans-Serif\" font-size=\"14.00\">tenure &lt;= 3.5</text>\n",
       "<text text-anchor=\"middle\" x=\"713.06\" y=\"-169.8\" font-family=\"Helvetica,sans-Serif\" font-size=\"14.00\">entropy = 0.864</text>\n",
       "<text text-anchor=\"middle\" x=\"713.06\" y=\"-153\" font-family=\"Helvetica,sans-Serif\" font-size=\"14.00\">samples = 1402</text>\n",
       "<text text-anchor=\"middle\" x=\"713.06\" y=\"-136.2\" font-family=\"Helvetica,sans-Serif\" font-size=\"14.00\">value = [1000, 402]</text>\n",
       "<text text-anchor=\"middle\" x=\"713.06\" y=\"-119.4\" font-family=\"Helvetica,sans-Serif\" font-size=\"14.00\">class = not_churn</text>\n",
       "</g>\n",
       "<!-- 8&#45;&gt;9 -->\n",
       "<g id=\"edge9\" class=\"edge\">\n",
       "<title>8&#45;&gt;9</title>\n",
       "<path fill=\"none\" stroke=\"black\" d=\"M713.06,-239.07C713.06,-230.83 713.06,-222.16 713.06,-213.67\"/>\n",
       "<polygon fill=\"black\" stroke=\"black\" points=\"716.56,-213.44 713.06,-203.44 709.56,-213.44 716.56,-213.44\"/>\n",
       "</g>\n",
       "<!-- 12 -->\n",
       "<g id=\"node13\" class=\"node\">\n",
       "<title>12</title>\n",
       "<path fill=\"#e0f0fb\" stroke=\"black\" d=\"M985.76,-203.2C985.76,-203.2 882.36,-203.2 882.36,-203.2 876.36,-203.2 870.36,-197.2 870.36,-191.2 870.36,-191.2 870.36,-123.2 870.36,-123.2 870.36,-117.2 876.36,-111.2 882.36,-111.2 882.36,-111.2 985.76,-111.2 985.76,-111.2 991.76,-111.2 997.76,-117.2 997.76,-123.2 997.76,-123.2 997.76,-191.2 997.76,-191.2 997.76,-197.2 991.76,-203.2 985.76,-203.2\"/>\n",
       "<text text-anchor=\"middle\" x=\"934.06\" y=\"-186.6\" font-family=\"Helvetica,sans-Serif\" font-size=\"14.00\">tenure &lt;= 15.5</text>\n",
       "<text text-anchor=\"middle\" x=\"934.06\" y=\"-169.8\" font-family=\"Helvetica,sans-Serif\" font-size=\"14.00\">entropy = 0.995</text>\n",
       "<text text-anchor=\"middle\" x=\"934.06\" y=\"-153\" font-family=\"Helvetica,sans-Serif\" font-size=\"14.00\">samples = 1711</text>\n",
       "<text text-anchor=\"middle\" x=\"934.06\" y=\"-136.2\" font-family=\"Helvetica,sans-Serif\" font-size=\"14.00\">value = [783, 928]</text>\n",
       "<text text-anchor=\"middle\" x=\"934.06\" y=\"-119.4\" font-family=\"Helvetica,sans-Serif\" font-size=\"14.00\">class = churn</text>\n",
       "</g>\n",
       "<!-- 8&#45;&gt;12 -->\n",
       "<g id=\"edge12\" class=\"edge\">\n",
       "<title>8&#45;&gt;12</title>\n",
       "<path fill=\"none\" stroke=\"black\" d=\"M792.22,-239.07C814.86,-226.16 839.4,-212.17 861.61,-199.51\"/>\n",
       "<polygon fill=\"black\" stroke=\"black\" points=\"863.37,-202.53 870.32,-194.54 859.9,-196.45 863.37,-202.53\"/>\n",
       "</g>\n",
       "<!-- 10 -->\n",
       "<g id=\"node11\" class=\"node\">\n",
       "<title>10</title>\n",
       "<path fill=\"#fbebe0\" stroke=\"black\" d=\"M693.76,-75.3C693.76,-75.3 590.36,-75.3 590.36,-75.3 584.36,-75.3 578.36,-69.3 578.36,-63.3 578.36,-63.3 578.36,-11.9 578.36,-11.9 578.36,-5.9 584.36,0.1 590.36,0.1 590.36,0.1 693.76,0.1 693.76,0.1 699.76,0.1 705.76,-5.9 705.76,-11.9 705.76,-11.9 705.76,-63.3 705.76,-63.3 705.76,-69.3 699.76,-75.3 693.76,-75.3\"/>\n",
       "<text text-anchor=\"middle\" x=\"642.06\" y=\"-58.6\" font-family=\"Helvetica,sans-Serif\" font-size=\"14.00\">entropy = 0.995</text>\n",
       "<text text-anchor=\"middle\" x=\"642.06\" y=\"-41.8\" font-family=\"Helvetica,sans-Serif\" font-size=\"14.00\">samples = 474</text>\n",
       "<text text-anchor=\"middle\" x=\"642.06\" y=\"-25\" font-family=\"Helvetica,sans-Serif\" font-size=\"14.00\">value = [257, 217]</text>\n",
       "<text text-anchor=\"middle\" x=\"642.06\" y=\"-8.2\" font-family=\"Helvetica,sans-Serif\" font-size=\"14.00\">class = not_churn</text>\n",
       "</g>\n",
       "<!-- 9&#45;&gt;10 -->\n",
       "<g id=\"edge10\" class=\"edge\">\n",
       "<title>9&#45;&gt;10</title>\n",
       "<path fill=\"none\" stroke=\"black\" d=\"M685.81,-111.07C680.47,-102.23 674.87,-92.95 669.53,-84.1\"/>\n",
       "<polygon fill=\"black\" stroke=\"black\" points=\"672.45,-82.17 664.29,-75.42 666.46,-85.79 672.45,-82.17\"/>\n",
       "</g>\n",
       "<!-- 11 -->\n",
       "<g id=\"node12\" class=\"node\">\n",
       "<title>11</title>\n",
       "<path fill=\"#eba06a\" stroke=\"black\" d=\"M839.76,-75.3C839.76,-75.3 736.36,-75.3 736.36,-75.3 730.36,-75.3 724.36,-69.3 724.36,-63.3 724.36,-63.3 724.36,-11.9 724.36,-11.9 724.36,-5.9 730.36,0.1 736.36,0.1 736.36,0.1 839.76,0.1 839.76,0.1 845.76,0.1 851.76,-5.9 851.76,-11.9 851.76,-11.9 851.76,-63.3 851.76,-63.3 851.76,-69.3 845.76,-75.3 839.76,-75.3\"/>\n",
       "<text text-anchor=\"middle\" x=\"788.06\" y=\"-58.6\" font-family=\"Helvetica,sans-Serif\" font-size=\"14.00\">entropy = 0.721</text>\n",
       "<text text-anchor=\"middle\" x=\"788.06\" y=\"-41.8\" font-family=\"Helvetica,sans-Serif\" font-size=\"14.00\">samples = 928</text>\n",
       "<text text-anchor=\"middle\" x=\"788.06\" y=\"-25\" font-family=\"Helvetica,sans-Serif\" font-size=\"14.00\">value = [743, 185]</text>\n",
       "<text text-anchor=\"middle\" x=\"788.06\" y=\"-8.2\" font-family=\"Helvetica,sans-Serif\" font-size=\"14.00\">class = not_churn</text>\n",
       "</g>\n",
       "<!-- 9&#45;&gt;11 -->\n",
       "<g id=\"edge11\" class=\"edge\">\n",
       "<title>9&#45;&gt;11</title>\n",
       "<path fill=\"none\" stroke=\"black\" d=\"M741.84,-111.07C747.48,-102.23 753.4,-92.95 759.04,-84.1\"/>\n",
       "<polygon fill=\"black\" stroke=\"black\" points=\"762.15,-85.73 764.58,-75.42 756.25,-81.97 762.15,-85.73\"/>\n",
       "</g>\n",
       "<!-- 13 -->\n",
       "<g id=\"node14\" class=\"node\">\n",
       "<title>13</title>\n",
       "<path fill=\"#92c9f1\" stroke=\"black\" d=\"M985.76,-75.3C985.76,-75.3 882.36,-75.3 882.36,-75.3 876.36,-75.3 870.36,-69.3 870.36,-63.3 870.36,-63.3 870.36,-11.9 870.36,-11.9 870.36,-5.9 876.36,0.1 882.36,0.1 882.36,0.1 985.76,0.1 985.76,0.1 991.76,0.1 997.76,-5.9 997.76,-11.9 997.76,-11.9 997.76,-63.3 997.76,-63.3 997.76,-69.3 991.76,-75.3 985.76,-75.3\"/>\n",
       "<text text-anchor=\"middle\" x=\"934.06\" y=\"-58.6\" font-family=\"Helvetica,sans-Serif\" font-size=\"14.00\">entropy = 0.895</text>\n",
       "<text text-anchor=\"middle\" x=\"934.06\" y=\"-41.8\" font-family=\"Helvetica,sans-Serif\" font-size=\"14.00\">samples = 829</text>\n",
       "<text text-anchor=\"middle\" x=\"934.06\" y=\"-25\" font-family=\"Helvetica,sans-Serif\" font-size=\"14.00\">value = [258, 571]</text>\n",
       "<text text-anchor=\"middle\" x=\"934.06\" y=\"-8.2\" font-family=\"Helvetica,sans-Serif\" font-size=\"14.00\">class = churn</text>\n",
       "</g>\n",
       "<!-- 12&#45;&gt;13 -->\n",
       "<g id=\"edge13\" class=\"edge\">\n",
       "<title>12&#45;&gt;13</title>\n",
       "<path fill=\"none\" stroke=\"black\" d=\"M934.06,-111.07C934.06,-102.69 934.06,-93.91 934.06,-85.48\"/>\n",
       "<polygon fill=\"black\" stroke=\"black\" points=\"937.56,-85.42 934.06,-75.42 930.56,-85.42 937.56,-85.42\"/>\n",
       "</g>\n",
       "<!-- 14 -->\n",
       "<g id=\"node15\" class=\"node\">\n",
       "<title>14</title>\n",
       "<path fill=\"#f7d7c0\" stroke=\"black\" d=\"M1131.76,-75.3C1131.76,-75.3 1028.36,-75.3 1028.36,-75.3 1022.36,-75.3 1016.36,-69.3 1016.36,-63.3 1016.36,-63.3 1016.36,-11.9 1016.36,-11.9 1016.36,-5.9 1022.36,0.1 1028.36,0.1 1028.36,0.1 1131.76,0.1 1131.76,0.1 1137.76,0.1 1143.76,-5.9 1143.76,-11.9 1143.76,-11.9 1143.76,-63.3 1143.76,-63.3 1143.76,-69.3 1137.76,-75.3 1131.76,-75.3\"/>\n",
       "<text text-anchor=\"middle\" x=\"1080.06\" y=\"-58.6\" font-family=\"Helvetica,sans-Serif\" font-size=\"14.00\">entropy = 0.974</text>\n",
       "<text text-anchor=\"middle\" x=\"1080.06\" y=\"-41.8\" font-family=\"Helvetica,sans-Serif\" font-size=\"14.00\">samples = 882</text>\n",
       "<text text-anchor=\"middle\" x=\"1080.06\" y=\"-25\" font-family=\"Helvetica,sans-Serif\" font-size=\"14.00\">value = [525, 357]</text>\n",
       "<text text-anchor=\"middle\" x=\"1080.06\" y=\"-8.2\" font-family=\"Helvetica,sans-Serif\" font-size=\"14.00\">class = not_churn</text>\n",
       "</g>\n",
       "<!-- 12&#45;&gt;14 -->\n",
       "<g id=\"edge14\" class=\"edge\">\n",
       "<title>12&#45;&gt;14</title>\n",
       "<path fill=\"none\" stroke=\"black\" d=\"M990.09,-111.07C1001.98,-101.49 1014.51,-91.4 1026.31,-81.89\"/>\n",
       "<polygon fill=\"black\" stroke=\"black\" points=\"1028.76,-84.41 1034.35,-75.42 1024.37,-78.96 1028.76,-84.41\"/>\n",
       "</g>\n",
       "</g>\n",
       "</svg>\n"
      ],
      "text/plain": [
       "<graphviz.sources.Source at 0x24023a47a00>"
      ]
     },
     "execution_count": 18,
     "metadata": {},
     "output_type": "execute_result"
    }
   ],
   "source": [
    "#将这棵树画出来\n",
    "import graphviz\n",
    "# from pydotplus.graphviz import graph_from_dot_data\n",
    "# from sklearn.tree import export_graphviz\n",
    "\n",
    "part_DT = DecisionTreeClassifier(criterion='entropy', max_depth=3, random_state=0)\n",
    "part_DT.fit(X_train, y_train)\n",
    "\n",
    "dot_data = tree.export_graphviz(decision_tree=part_DT, max_depth=3,\n",
    "                                 out_file=None, \n",
    "#                                  feature_names=X_train.columns,\n",
    "                                 feature_names = X_train.columns,\n",
    "                                 class_names=['not_churn', 'churn'], \n",
    "                                 filled=True,\n",
    "                                 rounded=True\n",
    "                                )\n",
    "graphviz.Source(dot_data)\n",
    "# graph = graphviz.Source(dot_data)\n",
    "# graph\n",
    "# graph = graph_from_dot_data(dot_data) # Create graph from dot data\n",
    "\n",
    "# graph.write_png('./决策树.png') # Write graphto PNG image"
   ]
  },
  {
   "cell_type": "code",
   "execution_count": null,
   "id": "bfdf2e1b",
   "metadata": {},
   "outputs": [
    {
     "data": {
      "application/vnd.plotly.v1+json": {
       "config": {
        "linkText": "Export to plot.ly",
        "plotlyServerURL": "https://plot.ly",
        "showLink": false
       },
       "data": [
        {
         "colorscale": [
          [
           0,
           "#00083e"
          ],
          [
           0.5,
           "#ededee"
          ],
          [
           1,
           "#ffffff"
          ]
         ],
         "hoverinfo": "none",
         "opacity": 0.75,
         "showscale": false,
         "type": "heatmap",
         "z": [
          [
           0,
           0
          ],
          [
           0.5,
           0.5
          ],
          [
           1,
           1
          ],
          [
           0.5,
           0.5
          ],
          [
           1,
           1
          ],
          [
           0.5,
           0.5
          ],
          [
           1,
           1
          ],
          [
           0.5,
           0.5
          ],
          [
           1,
           1
          ],
          [
           0.5,
           0.5
          ],
          [
           1,
           1
          ],
          [
           0.5,
           0.5
          ],
          [
           1,
           1
          ],
          [
           0.5,
           0.5
          ]
         ]
        }
       ],
       "layout": {
        "annotations": [
         {
          "align": "left",
          "font": {
           "color": "#ffffff"
          },
          "showarrow": false,
          "text": "<b>feature</b>",
          "x": -0.45,
          "xanchor": "left",
          "xref": "x",
          "y": 0,
          "yref": "y"
         },
         {
          "align": "left",
          "font": {
           "color": "#ffffff"
          },
          "showarrow": false,
          "text": "<b>importances</b>",
          "x": 0.55,
          "xanchor": "left",
          "xref": "x",
          "y": 0,
          "yref": "y"
         },
         {
          "align": "left",
          "font": {
           "color": "#000000"
          },
          "showarrow": false,
          "text": "Contract_Month-to-month",
          "x": -0.45,
          "xanchor": "left",
          "xref": "x",
          "y": 1,
          "yref": "y"
         },
         {
          "align": "left",
          "font": {
           "color": "#000000"
          },
          "showarrow": false,
          "text": "0.5369",
          "x": 0.55,
          "xanchor": "left",
          "xref": "x",
          "y": 1,
          "yref": "y"
         },
         {
          "align": "left",
          "font": {
           "color": "#000000"
          },
          "showarrow": false,
          "text": "tenure",
          "x": -0.45,
          "xanchor": "left",
          "xref": "x",
          "y": 2,
          "yref": "y"
         },
         {
          "align": "left",
          "font": {
           "color": "#000000"
          },
          "showarrow": false,
          "text": "0.1441",
          "x": 0.55,
          "xanchor": "left",
          "xref": "x",
          "y": 2,
          "yref": "y"
         },
         {
          "align": "left",
          "font": {
           "color": "#000000"
          },
          "showarrow": false,
          "text": "InternetService_Fiber optic",
          "x": -0.45,
          "xanchor": "left",
          "xref": "x",
          "y": 3,
          "yref": "y"
         },
         {
          "align": "left",
          "font": {
           "color": "#000000"
          },
          "showarrow": false,
          "text": "0.1075",
          "x": 0.55,
          "xanchor": "left",
          "xref": "x",
          "y": 3,
          "yref": "y"
         },
         {
          "align": "left",
          "font": {
           "color": "#000000"
          },
          "showarrow": false,
          "text": "TotalCharges",
          "x": -0.45,
          "xanchor": "left",
          "xref": "x",
          "y": 4,
          "yref": "y"
         },
         {
          "align": "left",
          "font": {
           "color": "#000000"
          },
          "showarrow": false,
          "text": "0.0726",
          "x": 0.55,
          "xanchor": "left",
          "xref": "x",
          "y": 4,
          "yref": "y"
         },
         {
          "align": "left",
          "font": {
           "color": "#000000"
          },
          "showarrow": false,
          "text": "MonthlyCharges",
          "x": -0.45,
          "xanchor": "left",
          "xref": "x",
          "y": 5,
          "yref": "y"
         },
         {
          "align": "left",
          "font": {
           "color": "#000000"
          },
          "showarrow": false,
          "text": "0.0618",
          "x": 0.55,
          "xanchor": "left",
          "xref": "x",
          "y": 5,
          "yref": "y"
         },
         {
          "align": "left",
          "font": {
           "color": "#000000"
          },
          "showarrow": false,
          "text": "PaymentMethod_Electronic check",
          "x": -0.45,
          "xanchor": "left",
          "xref": "x",
          "y": 6,
          "yref": "y"
         },
         {
          "align": "left",
          "font": {
           "color": "#000000"
          },
          "showarrow": false,
          "text": "0.0174",
          "x": 0.55,
          "xanchor": "left",
          "xref": "x",
          "y": 6,
          "yref": "y"
         },
         {
          "align": "left",
          "font": {
           "color": "#000000"
          },
          "showarrow": false,
          "text": "Contract_Two year",
          "x": -0.45,
          "xanchor": "left",
          "xref": "x",
          "y": 7,
          "yref": "y"
         },
         {
          "align": "left",
          "font": {
           "color": "#000000"
          },
          "showarrow": false,
          "text": "0.0166",
          "x": 0.55,
          "xanchor": "left",
          "xref": "x",
          "y": 7,
          "yref": "y"
         },
         {
          "align": "left",
          "font": {
           "color": "#000000"
          },
          "showarrow": false,
          "text": "InternetService_DSL",
          "x": -0.45,
          "xanchor": "left",
          "xref": "x",
          "y": 8,
          "yref": "y"
         },
         {
          "align": "left",
          "font": {
           "color": "#000000"
          },
          "showarrow": false,
          "text": "0.0165",
          "x": 0.55,
          "xanchor": "left",
          "xref": "x",
          "y": 8,
          "yref": "y"
         },
         {
          "align": "left",
          "font": {
           "color": "#000000"
          },
          "showarrow": false,
          "text": "InternetService_No",
          "x": -0.45,
          "xanchor": "left",
          "xref": "x",
          "y": 9,
          "yref": "y"
         },
         {
          "align": "left",
          "font": {
           "color": "#000000"
          },
          "showarrow": false,
          "text": "0.0111",
          "x": 0.55,
          "xanchor": "left",
          "xref": "x",
          "y": 9,
          "yref": "y"
         },
         {
          "align": "left",
          "font": {
           "color": "#000000"
          },
          "showarrow": false,
          "text": "TechSupport",
          "x": -0.45,
          "xanchor": "left",
          "xref": "x",
          "y": 10,
          "yref": "y"
         },
         {
          "align": "left",
          "font": {
           "color": "#000000"
          },
          "showarrow": false,
          "text": "0.007",
          "x": 0.55,
          "xanchor": "left",
          "xref": "x",
          "y": 10,
          "yref": "y"
         },
         {
          "align": "left",
          "font": {
           "color": "#000000"
          },
          "showarrow": false,
          "text": "Contract_One year",
          "x": -0.45,
          "xanchor": "left",
          "xref": "x",
          "y": 11,
          "yref": "y"
         },
         {
          "align": "left",
          "font": {
           "color": "#000000"
          },
          "showarrow": false,
          "text": "0.0037",
          "x": 0.55,
          "xanchor": "left",
          "xref": "x",
          "y": 11,
          "yref": "y"
         },
         {
          "align": "left",
          "font": {
           "color": "#000000"
          },
          "showarrow": false,
          "text": "PaymentMethod_Credit card (automatic)",
          "x": -0.45,
          "xanchor": "left",
          "xref": "x",
          "y": 12,
          "yref": "y"
         },
         {
          "align": "left",
          "font": {
           "color": "#000000"
          },
          "showarrow": false,
          "text": "0.0034",
          "x": 0.55,
          "xanchor": "left",
          "xref": "x",
          "y": 12,
          "yref": "y"
         },
         {
          "align": "left",
          "font": {
           "color": "#000000"
          },
          "showarrow": false,
          "text": "PaymentMethod_Bank transfer (automatic)",
          "x": -0.45,
          "xanchor": "left",
          "xref": "x",
          "y": 13,
          "yref": "y"
         },
         {
          "align": "left",
          "font": {
           "color": "#000000"
          },
          "showarrow": false,
          "text": "0.0013",
          "x": 0.55,
          "xanchor": "left",
          "xref": "x",
          "y": 13,
          "yref": "y"
         }
        ],
        "height": 470,
        "margin": {
         "b": 0,
         "l": 0,
         "r": 0,
         "t": 0
        },
        "template": {
         "data": {
          "bar": [
           {
            "error_x": {
             "color": "#2a3f5f"
            },
            "error_y": {
             "color": "#2a3f5f"
            },
            "marker": {
             "line": {
              "color": "#E5ECF6",
              "width": 0.5
             },
             "pattern": {
              "fillmode": "overlay",
              "size": 10,
              "solidity": 0.2
             }
            },
            "type": "bar"
           }
          ],
          "barpolar": [
           {
            "marker": {
             "line": {
              "color": "#E5ECF6",
              "width": 0.5
             },
             "pattern": {
              "fillmode": "overlay",
              "size": 10,
              "solidity": 0.2
             }
            },
            "type": "barpolar"
           }
          ],
          "carpet": [
           {
            "aaxis": {
             "endlinecolor": "#2a3f5f",
             "gridcolor": "white",
             "linecolor": "white",
             "minorgridcolor": "white",
             "startlinecolor": "#2a3f5f"
            },
            "baxis": {
             "endlinecolor": "#2a3f5f",
             "gridcolor": "white",
             "linecolor": "white",
             "minorgridcolor": "white",
             "startlinecolor": "#2a3f5f"
            },
            "type": "carpet"
           }
          ],
          "choropleth": [
           {
            "colorbar": {
             "outlinewidth": 0,
             "ticks": ""
            },
            "type": "choropleth"
           }
          ],
          "contour": [
           {
            "colorbar": {
             "outlinewidth": 0,
             "ticks": ""
            },
            "colorscale": [
             [
              0,
              "#0d0887"
             ],
             [
              0.1111111111111111,
              "#46039f"
             ],
             [
              0.2222222222222222,
              "#7201a8"
             ],
             [
              0.3333333333333333,
              "#9c179e"
             ],
             [
              0.4444444444444444,
              "#bd3786"
             ],
             [
              0.5555555555555556,
              "#d8576b"
             ],
             [
              0.6666666666666666,
              "#ed7953"
             ],
             [
              0.7777777777777778,
              "#fb9f3a"
             ],
             [
              0.8888888888888888,
              "#fdca26"
             ],
             [
              1,
              "#f0f921"
             ]
            ],
            "type": "contour"
           }
          ],
          "contourcarpet": [
           {
            "colorbar": {
             "outlinewidth": 0,
             "ticks": ""
            },
            "type": "contourcarpet"
           }
          ],
          "heatmap": [
           {
            "colorbar": {
             "outlinewidth": 0,
             "ticks": ""
            },
            "colorscale": [
             [
              0,
              "#0d0887"
             ],
             [
              0.1111111111111111,
              "#46039f"
             ],
             [
              0.2222222222222222,
              "#7201a8"
             ],
             [
              0.3333333333333333,
              "#9c179e"
             ],
             [
              0.4444444444444444,
              "#bd3786"
             ],
             [
              0.5555555555555556,
              "#d8576b"
             ],
             [
              0.6666666666666666,
              "#ed7953"
             ],
             [
              0.7777777777777778,
              "#fb9f3a"
             ],
             [
              0.8888888888888888,
              "#fdca26"
             ],
             [
              1,
              "#f0f921"
             ]
            ],
            "type": "heatmap"
           }
          ],
          "heatmapgl": [
           {
            "colorbar": {
             "outlinewidth": 0,
             "ticks": ""
            },
            "colorscale": [
             [
              0,
              "#0d0887"
             ],
             [
              0.1111111111111111,
              "#46039f"
             ],
             [
              0.2222222222222222,
              "#7201a8"
             ],
             [
              0.3333333333333333,
              "#9c179e"
             ],
             [
              0.4444444444444444,
              "#bd3786"
             ],
             [
              0.5555555555555556,
              "#d8576b"
             ],
             [
              0.6666666666666666,
              "#ed7953"
             ],
             [
              0.7777777777777778,
              "#fb9f3a"
             ],
             [
              0.8888888888888888,
              "#fdca26"
             ],
             [
              1,
              "#f0f921"
             ]
            ],
            "type": "heatmapgl"
           }
          ],
          "histogram": [
           {
            "marker": {
             "pattern": {
              "fillmode": "overlay",
              "size": 10,
              "solidity": 0.2
             }
            },
            "type": "histogram"
           }
          ],
          "histogram2d": [
           {
            "colorbar": {
             "outlinewidth": 0,
             "ticks": ""
            },
            "colorscale": [
             [
              0,
              "#0d0887"
             ],
             [
              0.1111111111111111,
              "#46039f"
             ],
             [
              0.2222222222222222,
              "#7201a8"
             ],
             [
              0.3333333333333333,
              "#9c179e"
             ],
             [
              0.4444444444444444,
              "#bd3786"
             ],
             [
              0.5555555555555556,
              "#d8576b"
             ],
             [
              0.6666666666666666,
              "#ed7953"
             ],
             [
              0.7777777777777778,
              "#fb9f3a"
             ],
             [
              0.8888888888888888,
              "#fdca26"
             ],
             [
              1,
              "#f0f921"
             ]
            ],
            "type": "histogram2d"
           }
          ],
          "histogram2dcontour": [
           {
            "colorbar": {
             "outlinewidth": 0,
             "ticks": ""
            },
            "colorscale": [
             [
              0,
              "#0d0887"
             ],
             [
              0.1111111111111111,
              "#46039f"
             ],
             [
              0.2222222222222222,
              "#7201a8"
             ],
             [
              0.3333333333333333,
              "#9c179e"
             ],
             [
              0.4444444444444444,
              "#bd3786"
             ],
             [
              0.5555555555555556,
              "#d8576b"
             ],
             [
              0.6666666666666666,
              "#ed7953"
             ],
             [
              0.7777777777777778,
              "#fb9f3a"
             ],
             [
              0.8888888888888888,
              "#fdca26"
             ],
             [
              1,
              "#f0f921"
             ]
            ],
            "type": "histogram2dcontour"
           }
          ],
          "mesh3d": [
           {
            "colorbar": {
             "outlinewidth": 0,
             "ticks": ""
            },
            "type": "mesh3d"
           }
          ],
          "parcoords": [
           {
            "line": {
             "colorbar": {
              "outlinewidth": 0,
              "ticks": ""
             }
            },
            "type": "parcoords"
           }
          ],
          "pie": [
           {
            "automargin": true,
            "type": "pie"
           }
          ],
          "scatter": [
           {
            "fillpattern": {
             "fillmode": "overlay",
             "size": 10,
             "solidity": 0.2
            },
            "type": "scatter"
           }
          ],
          "scatter3d": [
           {
            "line": {
             "colorbar": {
              "outlinewidth": 0,
              "ticks": ""
             }
            },
            "marker": {
             "colorbar": {
              "outlinewidth": 0,
              "ticks": ""
             }
            },
            "type": "scatter3d"
           }
          ],
          "scattercarpet": [
           {
            "marker": {
             "colorbar": {
              "outlinewidth": 0,
              "ticks": ""
             }
            },
            "type": "scattercarpet"
           }
          ],
          "scattergeo": [
           {
            "marker": {
             "colorbar": {
              "outlinewidth": 0,
              "ticks": ""
             }
            },
            "type": "scattergeo"
           }
          ],
          "scattergl": [
           {
            "marker": {
             "colorbar": {
              "outlinewidth": 0,
              "ticks": ""
             }
            },
            "type": "scattergl"
           }
          ],
          "scattermapbox": [
           {
            "marker": {
             "colorbar": {
              "outlinewidth": 0,
              "ticks": ""
             }
            },
            "type": "scattermapbox"
           }
          ],
          "scatterpolar": [
           {
            "marker": {
             "colorbar": {
              "outlinewidth": 0,
              "ticks": ""
             }
            },
            "type": "scatterpolar"
           }
          ],
          "scatterpolargl": [
           {
            "marker": {
             "colorbar": {
              "outlinewidth": 0,
              "ticks": ""
             }
            },
            "type": "scatterpolargl"
           }
          ],
          "scatterternary": [
           {
            "marker": {
             "colorbar": {
              "outlinewidth": 0,
              "ticks": ""
             }
            },
            "type": "scatterternary"
           }
          ],
          "surface": [
           {
            "colorbar": {
             "outlinewidth": 0,
             "ticks": ""
            },
            "colorscale": [
             [
              0,
              "#0d0887"
             ],
             [
              0.1111111111111111,
              "#46039f"
             ],
             [
              0.2222222222222222,
              "#7201a8"
             ],
             [
              0.3333333333333333,
              "#9c179e"
             ],
             [
              0.4444444444444444,
              "#bd3786"
             ],
             [
              0.5555555555555556,
              "#d8576b"
             ],
             [
              0.6666666666666666,
              "#ed7953"
             ],
             [
              0.7777777777777778,
              "#fb9f3a"
             ],
             [
              0.8888888888888888,
              "#fdca26"
             ],
             [
              1,
              "#f0f921"
             ]
            ],
            "type": "surface"
           }
          ],
          "table": [
           {
            "cells": {
             "fill": {
              "color": "#EBF0F8"
             },
             "line": {
              "color": "white"
             }
            },
            "header": {
             "fill": {
              "color": "#C8D4E3"
             },
             "line": {
              "color": "white"
             }
            },
            "type": "table"
           }
          ]
         },
         "layout": {
          "annotationdefaults": {
           "arrowcolor": "#2a3f5f",
           "arrowhead": 0,
           "arrowwidth": 1
          },
          "autotypenumbers": "strict",
          "coloraxis": {
           "colorbar": {
            "outlinewidth": 0,
            "ticks": ""
           }
          },
          "colorscale": {
           "diverging": [
            [
             0,
             "#8e0152"
            ],
            [
             0.1,
             "#c51b7d"
            ],
            [
             0.2,
             "#de77ae"
            ],
            [
             0.3,
             "#f1b6da"
            ],
            [
             0.4,
             "#fde0ef"
            ],
            [
             0.5,
             "#f7f7f7"
            ],
            [
             0.6,
             "#e6f5d0"
            ],
            [
             0.7,
             "#b8e186"
            ],
            [
             0.8,
             "#7fbc41"
            ],
            [
             0.9,
             "#4d9221"
            ],
            [
             1,
             "#276419"
            ]
           ],
           "sequential": [
            [
             0,
             "#0d0887"
            ],
            [
             0.1111111111111111,
             "#46039f"
            ],
            [
             0.2222222222222222,
             "#7201a8"
            ],
            [
             0.3333333333333333,
             "#9c179e"
            ],
            [
             0.4444444444444444,
             "#bd3786"
            ],
            [
             0.5555555555555556,
             "#d8576b"
            ],
            [
             0.6666666666666666,
             "#ed7953"
            ],
            [
             0.7777777777777778,
             "#fb9f3a"
            ],
            [
             0.8888888888888888,
             "#fdca26"
            ],
            [
             1,
             "#f0f921"
            ]
           ],
           "sequentialminus": [
            [
             0,
             "#0d0887"
            ],
            [
             0.1111111111111111,
             "#46039f"
            ],
            [
             0.2222222222222222,
             "#7201a8"
            ],
            [
             0.3333333333333333,
             "#9c179e"
            ],
            [
             0.4444444444444444,
             "#bd3786"
            ],
            [
             0.5555555555555556,
             "#d8576b"
            ],
            [
             0.6666666666666666,
             "#ed7953"
            ],
            [
             0.7777777777777778,
             "#fb9f3a"
            ],
            [
             0.8888888888888888,
             "#fdca26"
            ],
            [
             1,
             "#f0f921"
            ]
           ]
          },
          "colorway": [
           "#636efa",
           "#EF553B",
           "#00cc96",
           "#ab63fa",
           "#FFA15A",
           "#19d3f3",
           "#FF6692",
           "#B6E880",
           "#FF97FF",
           "#FECB52"
          ],
          "font": {
           "color": "#2a3f5f"
          },
          "geo": {
           "bgcolor": "white",
           "lakecolor": "white",
           "landcolor": "#E5ECF6",
           "showlakes": true,
           "showland": true,
           "subunitcolor": "white"
          },
          "hoverlabel": {
           "align": "left"
          },
          "hovermode": "closest",
          "mapbox": {
           "style": "light"
          },
          "paper_bgcolor": "white",
          "plot_bgcolor": "#E5ECF6",
          "polar": {
           "angularaxis": {
            "gridcolor": "white",
            "linecolor": "white",
            "ticks": ""
           },
           "bgcolor": "#E5ECF6",
           "radialaxis": {
            "gridcolor": "white",
            "linecolor": "white",
            "ticks": ""
           }
          },
          "scene": {
           "xaxis": {
            "backgroundcolor": "#E5ECF6",
            "gridcolor": "white",
            "gridwidth": 2,
            "linecolor": "white",
            "showbackground": true,
            "ticks": "",
            "zerolinecolor": "white"
           },
           "yaxis": {
            "backgroundcolor": "#E5ECF6",
            "gridcolor": "white",
            "gridwidth": 2,
            "linecolor": "white",
            "showbackground": true,
            "ticks": "",
            "zerolinecolor": "white"
           },
           "zaxis": {
            "backgroundcolor": "#E5ECF6",
            "gridcolor": "white",
            "gridwidth": 2,
            "linecolor": "white",
            "showbackground": true,
            "ticks": "",
            "zerolinecolor": "white"
           }
          },
          "shapedefaults": {
           "line": {
            "color": "#2a3f5f"
           }
          },
          "ternary": {
           "aaxis": {
            "gridcolor": "white",
            "linecolor": "white",
            "ticks": ""
           },
           "baxis": {
            "gridcolor": "white",
            "linecolor": "white",
            "ticks": ""
           },
           "bgcolor": "#E5ECF6",
           "caxis": {
            "gridcolor": "white",
            "linecolor": "white",
            "ticks": ""
           }
          },
          "title": {
           "x": 0.05
          },
          "xaxis": {
           "automargin": true,
           "gridcolor": "white",
           "linecolor": "white",
           "ticks": "",
           "title": {
            "standoff": 15
           },
           "zerolinecolor": "white",
           "zerolinewidth": 2
          },
          "yaxis": {
           "automargin": true,
           "gridcolor": "white",
           "linecolor": "white",
           "ticks": "",
           "title": {
            "standoff": 15
           },
           "zerolinecolor": "white",
           "zerolinewidth": 2
          }
         }
        },
        "xaxis": {
         "dtick": 1,
         "gridwidth": 2,
         "showticklabels": false,
         "tick0": -0.5,
         "ticks": "",
         "zeroline": false
        },
        "yaxis": {
         "autorange": "reversed",
         "dtick": 1,
         "gridwidth": 2,
         "showticklabels": false,
         "tick0": 0.5,
         "ticks": "",
         "zeroline": false
        }
       }
      }
     },
     "metadata": {},
     "output_type": "display_data"
    }
   ],
   "source": [
    "# 输出决策树属性重要性排序\n",
    "import plotly.figure_factory as ff\n",
    "\n",
    "import plotly as py\n",
    "\n",
    "imp = pd.DataFrame(zip(X_train.columns, clf.feature_importances_))\n",
    "\n",
    "imp.columns = ['feature', 'importances']\n",
    "\n",
    "imp = imp.sort_values('importances', ascending=False)\n",
    "\n",
    "imp = imp[imp['importances'] != 0]\n",
    "\n",
    "table = ff.create_table(np.round(imp, 4))\n",
    "\n",
    "py.offline.iplot(table)\n"
   ]
  },
  {
   "cell_type": "code",
   "execution_count": null,
   "id": "2416426d",
   "metadata": {},
   "outputs": [
    {
     "name": "stderr",
     "output_type": "stream",
     "text": [
      "e:\\VirtualSpace\\python_env\\conda\\data_analysis\\lib\\site-packages\\sklearn\\utils\\validation.py:1184: DataConversionWarning:\n",
      "\n",
      "A column-vector y was passed when a 1d array was expected. Please change the shape of y to (n_samples, ), for example using ravel().\n",
      "\n",
      "e:\\VirtualSpace\\python_env\\conda\\data_analysis\\lib\\site-packages\\sklearn\\utils\\validation.py:1184: DataConversionWarning:\n",
      "\n",
      "A column-vector y was passed when a 1d array was expected. Please change the shape of y to (n_samples, ), for example using ravel().\n",
      "\n"
     ]
    },
    {
     "name": "stdout",
     "output_type": "stream",
     "text": [
      "0.8481254950277216\n",
      "0.8307755822561357\n"
     ]
    },
    {
     "name": "stderr",
     "output_type": "stream",
     "text": [
      "e:\\VirtualSpace\\python_env\\conda\\data_analysis\\lib\\site-packages\\sklearn\\utils\\validation.py:1184: DataConversionWarning:\n",
      "\n",
      "A column-vector y was passed when a 1d array was expected. Please change the shape of y to (n_samples, ), for example using ravel().\n",
      "\n"
     ]
    },
    {
     "name": "stdout",
     "output_type": "stream",
     "text": [
      "0.7956616158740183\n"
     ]
    },
    {
     "name": "stderr",
     "output_type": "stream",
     "text": [
      "e:\\VirtualSpace\\python_env\\conda\\data_analysis\\lib\\site-packages\\sklearn\\neural_network\\_multilayer_perceptron.py:1102: DataConversionWarning:\n",
      "\n",
      "A column-vector y was passed when a 1d array was expected. Please change the shape of y to (n_samples, ), for example using ravel().\n",
      "\n"
     ]
    },
    {
     "name": "stdout",
     "output_type": "stream",
     "text": [
      "0.8475871119370919\n",
      "0.8327608699028322\n",
      "0.8285651055282626\n"
     ]
    },
    {
     "name": "stderr",
     "output_type": "stream",
     "text": [
      "e:\\VirtualSpace\\python_env\\conda\\data_analysis\\lib\\site-packages\\sklearn\\utils\\validation.py:1184: DataConversionWarning:\n",
      "\n",
      "A column-vector y was passed when a 1d array was expected. Please change the shape of y to (n_samples, ), for example using ravel().\n",
      "\n",
      "e:\\VirtualSpace\\python_env\\conda\\data_analysis\\lib\\site-packages\\sklearn\\base.py:1151: DataConversionWarning:\n",
      "\n",
      "A column-vector y was passed when a 1d array was expected. Please change the shape of y to (n_samples,), for example using ravel().\n",
      "\n"
     ]
    },
    {
     "name": "stdout",
     "output_type": "stream",
     "text": [
      "0.8241467404527594\n",
      "[LightGBM] [Warning] Found whitespace in feature_names, replace with underlines\n",
      "[LightGBM] [Info] Number of positive: 1495, number of negative: 4130\n",
      "[LightGBM] [Info] Auto-choosing row-wise multi-threading, the overhead of testing was 0.000274 seconds.\n",
      "You can set `force_row_wise=true` to remove the overhead.\n",
      "And if memory is not enough, you can set `force_col_wise=true`.\n",
      "[LightGBM] [Info] Total Bins 617\n",
      "[LightGBM] [Info] Number of data points in the train set: 5625, number of used features: 20\n",
      "[LightGBM] [Info] [binary:BoostFromScore]: pavg=0.265778 -> initscore=-1.016151\n",
      "[LightGBM] [Info] Start training from score -1.016151\n",
      "0.8412844060443856\n"
     ]
    },
    {
     "name": "stderr",
     "output_type": "stream",
     "text": [
      "e:\\VirtualSpace\\python_env\\conda\\data_analysis\\lib\\site-packages\\sklearn\\preprocessing\\_label.py:97: DataConversionWarning:\n",
      "\n",
      "A column-vector y was passed when a 1d array was expected. Please change the shape of y to (n_samples, ), for example using ravel().\n",
      "\n",
      "e:\\VirtualSpace\\python_env\\conda\\data_analysis\\lib\\site-packages\\sklearn\\preprocessing\\_label.py:132: DataConversionWarning:\n",
      "\n",
      "A column-vector y was passed when a 1d array was expected. Please change the shape of y to (n_samples, ), for example using ravel().\n",
      "\n",
      "e:\\VirtualSpace\\python_env\\conda\\data_analysis\\lib\\site-packages\\xgboost\\data.py:299: FutureWarning:\n",
      "\n",
      "is_sparse is deprecated and will be removed in a future version. Check `isinstance(dtype, pd.SparseDtype)` instead.\n",
      "\n",
      "e:\\VirtualSpace\\python_env\\conda\\data_analysis\\lib\\site-packages\\xgboost\\data.py:301: FutureWarning:\n",
      "\n",
      "is_categorical_dtype is deprecated and will be removed in a future version. Use isinstance(dtype, CategoricalDtype) instead\n",
      "\n",
      "e:\\VirtualSpace\\python_env\\conda\\data_analysis\\lib\\site-packages\\xgboost\\data.py:332: FutureWarning:\n",
      "\n",
      "is_categorical_dtype is deprecated and will be removed in a future version. Use isinstance(dtype, CategoricalDtype) instead\n",
      "\n",
      "e:\\VirtualSpace\\python_env\\conda\\data_analysis\\lib\\site-packages\\xgboost\\data.py:323: FutureWarning:\n",
      "\n",
      "is_categorical_dtype is deprecated and will be removed in a future version. Use isinstance(dtype, CategoricalDtype) instead\n",
      "\n",
      "e:\\VirtualSpace\\python_env\\conda\\data_analysis\\lib\\site-packages\\xgboost\\data.py:332: FutureWarning:\n",
      "\n",
      "is_categorical_dtype is deprecated and will be removed in a future version. Use isinstance(dtype, CategoricalDtype) instead\n",
      "\n",
      "e:\\VirtualSpace\\python_env\\conda\\data_analysis\\lib\\site-packages\\xgboost\\data.py:323: FutureWarning:\n",
      "\n",
      "is_categorical_dtype is deprecated and will be removed in a future version. Use isinstance(dtype, CategoricalDtype) instead\n",
      "\n",
      "e:\\VirtualSpace\\python_env\\conda\\data_analysis\\lib\\site-packages\\xgboost\\data.py:299: FutureWarning:\n",
      "\n",
      "is_sparse is deprecated and will be removed in a future version. Check `isinstance(dtype, pd.SparseDtype)` instead.\n",
      "\n",
      "e:\\VirtualSpace\\python_env\\conda\\data_analysis\\lib\\site-packages\\xgboost\\data.py:301: FutureWarning:\n",
      "\n",
      "is_categorical_dtype is deprecated and will be removed in a future version. Use isinstance(dtype, CategoricalDtype) instead\n",
      "\n",
      "e:\\VirtualSpace\\python_env\\conda\\data_analysis\\lib\\site-packages\\xgboost\\data.py:332: FutureWarning:\n",
      "\n",
      "is_categorical_dtype is deprecated and will be removed in a future version. Use isinstance(dtype, CategoricalDtype) instead\n",
      "\n",
      "e:\\VirtualSpace\\python_env\\conda\\data_analysis\\lib\\site-packages\\xgboost\\data.py:323: FutureWarning:\n",
      "\n",
      "is_categorical_dtype is deprecated and will be removed in a future version. Use isinstance(dtype, CategoricalDtype) instead\n",
      "\n"
     ]
    },
    {
     "name": "stdout",
     "output_type": "stream",
     "text": [
      "0.8286712291182424\n"
     ]
    },
    {
     "data": {
      "image/png": "[encoded data removed]",
      "text/plain": [
       "<Figure size 640x480 with 1 Axes>"
      ]
     },
     "metadata": {},
     "output_type": "display_data"
    }
   ],
   "source": [
    "#绘制ROC曲线\n",
    "from matplotlib import pyplot as plt\n",
    "from sklearn.metrics import roc_curve, auc\n",
    "\n",
    "fprs = []\n",
    "tprs = []\n",
    "aucs=[]\n",
    "\n",
    "def roc_img(model, X_train, X_test, y_train, y_test, name):\n",
    "    model.fit(X_train, y_train)\n",
    "    y_score = model.predict_proba(X_test)[:,1]\n",
    "\n",
    "    fpr, tpr, thresholds = roc_curve(y_test, y_score)\n",
    "    roc_auc = auc(fpr,tpr)\n",
    "\n",
    "    print(roc_auc)\n",
    "    \n",
    "    fprs.append(fpr)\n",
    "    tprs.append(tpr)\n",
    "    aucs.append(roc_auc)\n",
    "\n",
    "models = [logit,  svc_lin, svc_rbf, mlp_model, gnb, decision_tree, rfc, lgbm_c, xgc]\n",
    "names = [ \"Logistic Regression\",   \"SVM Clissifier Linear\", \n",
    "         \"SVM Classifier RBF\",\"MLP Classifier\", \"Naive Bayes\", \"Decision Tree\",\n",
    "         \"Random Forest Classifier\", \"LGBM Classifier\", \"XGBoost Classifier\"]\n",
    "\n",
    "for i in range(9):\n",
    "    if i<5:\n",
    "        roc_img(models[i], X_train_scaled, X_test_scaled, y_train, y_test, names[i])\n",
    "    else:\n",
    "        roc_img(models[i], X_train, X_test, y_train, y_test, names[i])\n",
    "    plt.plot(fprs[i],tprs[i], lw=1.5, label=\"%s, AUC=%.3f\"%(names[i],aucs[i]))\n",
    "    \n",
    "plt.xlabel(\"FPR\",fontsize=15)\n",
    "plt.ylabel(\"TPR\",fontsize=15)\n",
    "\n",
    "plt.title(\"ROC\")\n",
    "plt.legend(loc=\"lower right\")\n",
    "plt.show()"
   ]
  },
  {
   "cell_type": "markdown",
   "id": "291ef5d5",
   "metadata": {},
   "source": [
    "# 使用神经网络来完成这个任务\n",
    "\n",
    "不需要再做单独的数据特征提取了，只需要将预处理好的所有特征都输入到网络中，然后让网络直接给出结果即可"
   ]
  },
  {
   "cell_type": "code",
   "execution_count": null,
   "id": "57d8a903",
   "metadata": {},
   "outputs": [
    {
     "name": "stdout",
     "output_type": "stream",
     "text": [
      "<class 'numpy.ndarray'>\n",
      "7032\n"
     ]
    }
   ],
   "source": [
    "# 定义数据集\n",
    "import torch\n",
    "import torch.nn as nn\n",
    "import torch.optim as optim\n",
    "from torch.utils.data import DataLoader\n",
    "from torch.utils.data import Dataset\n",
    "\n",
    "# 步骤1：准备数据集\n",
    "class CustomDataset(Dataset):\n",
    "    def __init__(self, data, labels):\n",
    "        self.data = data\n",
    "        self.labels = labels\n",
    "\n",
    "    def __len__(self):\n",
    "        return len(self.data)\n",
    "\n",
    "    def __getitem__(self, idx):\n",
    "        x = self.data[idx]\n",
    "        y = self.labels[idx]\n",
    "        return x, y\n",
    "\n",
    "\n",
    "X_data = df_model.drop(columns=[\"customerID\", \"Churn\"])\n",
    "X_label = df_model[\"Churn\"]\n",
    "\n",
    "X_data_norm = pd.DataFrame(st.fit_transform(X_data[num_cols]), columns=num_cols)\n",
    "X_data_norm = pd.concat([X_data.drop(num_cols, axis= 1), X_data_norm], axis= 1)\n",
    "\n",
    "import random\n",
    "\n",
    "# 假设 data 是你的数据集，labels 是对应的标签\n",
    "data = X_data_norm.values.astype(float)  # numpy强制类型转换\n",
    "labels = X_label.values.astype(int)\n",
    "# 将数据类型统一\n",
    "print(type(data))\n",
    "data = torch.from_numpy(data).float()\n",
    "labels = torch.from_numpy(labels).long()\n",
    "\n",
    "# 首先，确保 data 和 labels 一一对应\n",
    "\n",
    "# 随机打乱数据集\n",
    "random.seed(42)  # 设置随机种子以确保可重复性\n",
    "print(len(data))\n",
    "shuffled_indices = list(range(len(data)))\n",
    "random.shuffle(shuffled_indices)\n",
    "\n",
    "shuffled_data = []\n",
    "shuffled_labels = []\n",
    "\n",
    "for i in range(len(data)):\n",
    "    shuffled_data.append(data[shuffled_indices[i]])\n",
    "    shuffled_labels.append(labels[shuffled_indices[i]])\n",
    "\n",
    "# 划分数据集\n",
    "total_samples = len(shuffled_data)\n",
    "train_ratio = 0.7\n",
    "val_ratio = 0.15\n",
    "test_ratio = 0.15\n",
    "\n",
    "train_split = int(total_samples * train_ratio)\n",
    "val_split = train_split + int(total_samples * val_ratio)\n",
    "\n",
    "train_data = shuffled_data[:train_split]\n",
    "train_labels = shuffled_labels[:train_split]\n",
    "\n",
    "val_data = shuffled_data[train_split:val_split]\n",
    "val_labels = shuffled_labels[train_split:val_split]\n",
    "\n",
    "test_data = shuffled_data[val_split:]\n",
    "test_labels = shuffled_labels[val_split:]\n",
    "\n",
    "# 创建一个CustomDataset实例来表示训练数据集\n",
    "train_dataset = CustomDataset(train_data, train_labels)\n",
    "valid_dataset = CustomDataset(val_data, val_labels)\n",
    "test_dataset = CustomDataset(test_data, test_labels)\n",
    "\n",
    "# 步骤2：创建数据加载器\n",
    "train_loader = DataLoader(train_dataset, batch_size=64, shuffle=True)\n",
    "test_loader = DataLoader(test_dataset, batch_size=64)\n",
    "valid_loader = DataLoader(valid_dataset, batch_size=64)\n"
   ]
  },
  {
   "cell_type": "code",
   "execution_count": null,
   "id": "fb2922b6",
   "metadata": {},
   "outputs": [
    {
     "name": "stdout",
     "output_type": "stream",
     "text": [
      "epoch : 0\n",
      "Accuracy set: 79.83%\n",
      "Recall set: 40.32%\n",
      "Precision set: 79.86%\n",
      "F1-score set: 53.58%\n",
      "epoch : 1\n",
      "Accuracy set: 80.21%\n",
      "Recall set: 53.12%\n",
      "Precision set: 80.16%\n",
      "F1-score set: 63.89%\n",
      "last epoch : 2, Accuracy on the valid set: 81.44%\n",
      "Accuracy on the test set: 81.44%\n",
      "Recall on the test set: 49.12%\n",
      "Precision on the test set: 81.62%\n",
      "F1-score on the test set: 61.33%\n",
      "----------\n",
      "Accuracy on the test set: 81.44%\n",
      "Recall on the test set: 49.12%\n",
      "Precision on the test set: 81.62%\n",
      "F1-score on the test set: 61.33%\n"
     ]
    }
   ],
   "source": [
    "# 步骤3：定义模型\n",
    "class SimpleModel(nn.Module):\n",
    "    def __init__(self, input_size, hidden_size, num_classes):\n",
    "        super(SimpleModel, self).__init__()\n",
    "        self.fc1 = nn.Linear(input_size, hidden_size)\n",
    "        self.fc2 = nn.Linear(hidden_size, int(hidden_size / 2))\n",
    "        self.fc3 = nn.Linear(int(hidden_size / 2), int(hidden_size / 4))\n",
    "        self.fc4 = nn.Linear(int(hidden_size / 4), num_classes)\n",
    "        self.relu = nn.ReLU()\n",
    "    \n",
    "    def forward(self, x):\n",
    "        x = self.fc1(x)\n",
    "        x = self.relu(x)\n",
    "        x = self.fc2(x)\n",
    "        x = self.relu(x)\n",
    "        x = self.fc3(x)\n",
    "        # x = self.relu(x)\n",
    "        # x = self.fc4(x)\n",
    "        return x\n",
    "\n",
    "model = SimpleModel(input_size=32, hidden_size=100, num_classes=2)\n",
    "\n",
    "# 步骤4：定义损失函数\n",
    "criterion = nn.CrossEntropyLoss()\n",
    "\n",
    "# 步骤5：选择优化器\n",
    "optimizer = optim.Adam(model.parameters(), lr=0.001)\n",
    "\n",
    "# 步骤6：训练模型\n",
    "num_epochs = 1000\n",
    "last_f1 = 0.0\n",
    "\n",
    "for epoch in range(num_epochs):\n",
    "    for inputs, labels in train_loader:\n",
    "        optimizer.zero_grad()\n",
    "        outputs = model.forward(inputs)\n",
    "        loss = criterion(outputs, labels)\n",
    "        loss.backward()\n",
    "        optimizer.step()\n",
    "\n",
    "    correct = 0\n",
    "    total = 0\n",
    "\n",
    "    real_one = 0\n",
    "    pre_one_true = 0 \n",
    "    pre_one_false = 0\n",
    "    pre_zero_true = 0\n",
    "    pre_zero_false = 0\n",
    "\n",
    "    # 使用f1值作为过拟合点判断\n",
    "    with torch.no_grad():\n",
    "        for inputs, labels in test_loader:\n",
    "            outputs = model.forward(inputs)\n",
    "            _, predicted = torch.max(outputs, 1)\n",
    "            for pre in predicted:\n",
    "                if pre == 1:\n",
    "                    pre_one_false += (labels != predicted).sum().item()\n",
    "                    pre_one_true += (labels == predicted).sum().item()\n",
    "                else:\n",
    "                    pre_zero_false += (labels != predicted).sum().item()\n",
    "                    pre_zero_true += (labels == predicted).sum().item()\n",
    "            correct += (predicted == labels).sum().item()\n",
    "            total += labels.size(0)\n",
    "\n",
    "    accuracy = correct / total\n",
    "    recall = pre_one_true / (pre_one_true + pre_zero_false)\n",
    "    precision = pre_one_true / (pre_one_true + pre_one_false)\n",
    "    f1_score = 2 * precision * recall / (precision + recall)\n",
    "    if last_f1 > f1_score:\n",
    "        torch.save(model.state_dict(), 'model.pkl')\n",
    "        print(f'last epoch : {epoch}, Accuracy on the valid set: {100 * accuracy:.2f}%')\n",
    "        print(f'Accuracy on the test set: {100 * accuracy:.2f}%')\n",
    "        print(f'Recall on the test set: {100 * recall:.2f}%')\n",
    "        print(f'Precision on the test set: {100 * precision:.2f}%')\n",
    "        print(f'F1-score on the test set: {100 * f1_score:.2f}%')\n",
    "        break\n",
    "    last_f1 = f1_score\n",
    "    print(f'epoch : {epoch}')\n",
    "    print(f'Accuracy set: {100 * accuracy:.2f}%')\n",
    "    print(f'Recall set: {100 * recall:.2f}%')\n",
    "    print(f'Precision set: {100 * precision:.2f}%')\n",
    "    print(f'F1-score set: {100 * f1_score:.2f}%')\n",
    "\n",
    "print(\"-\"*10)\n",
    "    # 使用准确值作为过拟合点的判断\n",
    "    # with torch.no_grad():\n",
    "    #     for inputs, labels in valid_loader:\n",
    "    #         outputs = model.forward(inputs)\n",
    "    #         _, predicted = torch.max(outputs, 1)\n",
    "    #         total += labels.size(0)\n",
    "    #         correct += (predicted == labels).sum().item()\n",
    "\n",
    "    # accuracy = correct / total\n",
    "    # if last_accuracy > accuracy:\n",
    "    #     torch.save(model.state_dict(), 'model.pkl')\n",
    "    #     print(f'last epoch : {epoch}, Accuracy on the valid set: {100 * accuracy:.2f}%')\n",
    "    #     break\n",
    "    # last_accuracy = accuracy\n",
    "    # print(f'epoch : {epoch}, Accuracy on the valid set: {100 * accuracy:.2f}%')\n",
    "\n",
    "# 步骤7：评估模型\n",
    "# 我们认为1是流失了，就是检测出来的一个用户，这个看成正例\n",
    "\n",
    "real_one = 0\n",
    "pre_one_true = 0 \n",
    "pre_one_false = 0\n",
    "pre_zero_true = 0\n",
    "pre_zero_false = 0\n",
    "\n",
    "with torch.no_grad():\n",
    "    for inputs, labels in test_loader:\n",
    "        outputs = model.forward(inputs)\n",
    "        _, predicted = torch.max(outputs, 1)\n",
    "        for pre in predicted:\n",
    "            if pre == 1:\n",
    "                pre_one_false += (labels != predicted).sum().item()\n",
    "                pre_one_true += (labels == predicted).sum().item()\n",
    "            else:\n",
    "                pre_zero_false += (labels != predicted).sum().item()\n",
    "                pre_zero_true += (labels == predicted).sum().item()\n",
    "        correct += (predicted == labels).sum().item()\n",
    "        total += labels.size(0)\n",
    "\n",
    "accuracy = correct / total\n",
    "recall = pre_one_true / (pre_one_true + pre_zero_false)\n",
    "precision = pre_one_true / (pre_one_true + pre_one_false)\n",
    "f1_score = 2 * precision * recall / (precision + recall)\n",
    "print(f'Accuracy on the test set: {100 * accuracy:.2f}%')\n",
    "print(f'Recall on the test set: {100 * recall:.2f}%')\n",
    "print(f'Precision on the test set: {100 * precision:.2f}%')\n",
    "print(f'F1-score on the test set: {100 * f1_score:.2f}%')"
   ]
  },
  {
   "cell_type": "markdown",
   "id": "7733a40d",
   "metadata": {},
   "source": [
    "通过使用神经网络，我搭建了一个简单的三层的网络结构，激活函数是relu，输入的是所有经过标准化和归一化处理的特征，而没有进行手动的特征筛选，在现有的数据集上进行了训练集-验证集-测试集的分割，并进行了模型训练和评估，最后得到了一个在测试集上的准确率为81.53%的模型，可以看到我们这个简单的神经网络模型的结果高出了之前所有的模型。"
   ]
  },
  {
   "cell_type": "markdown",
   "id": "e17be86f",
   "metadata": {},
   "source": [
    "选择一个性能还不错的网络，我们想要输出他在第一层的线性函数参数，从而从中找到对结果贡献较大的特征，与传统的方法进行对比"
   ]
  },
  {
   "cell_type": "code",
   "execution_count": null,
   "id": "0dcb4ebf",
   "metadata": {},
   "outputs": [
    {
     "name": "stdout",
     "output_type": "stream",
     "text": [
      "['gender', 'SeniorCitizen', 'Partner', 'Dependents', 'tenure', 'PhoneService', 'MultipleLines', 'OnlineSecurity', 'OnlineBackup', 'DeviceProtection', 'TechSupport', 'StreamingTV', 'StreamingMovies', 'PaperlessBilling', 'MonthlyCharges', 'TotalCharges', 'InternetService_DSL', 'InternetService_Fiber optic', 'InternetService_No', 'Contract_Month-to-month', 'Contract_One year', 'Contract_Two year', 'PaymentMethod_Bank transfer (automatic)', 'PaymentMethod_Credit card (automatic)', 'PaymentMethod_Electronic check', 'PaymentMethod_Mailed check', 'tenure_group_Tenure_1', 'tenure_group_Tenure_2', 'tenure_group_Tenure_3', 'tenure_group_Tenure_4', 'tenure_group_Tenure_5', 'tenure_group_Tenure_over_5']\n",
      "[tensor(2.5085), tensor(3.0021), tensor(3.6075), tensor(2.9942), tensor(3.1955), tensor(3.1550), tensor(2.9383), tensor(3.9614), tensor(2.8122), tensor(2.9193), tensor(3.3020), tensor(2.6238), tensor(2.9674), tensor(3.3294), tensor(2.4104), tensor(2.9522), tensor(2.6725), tensor(3.1514), tensor(3.6157), tensor(2.8161), tensor(3.5935), tensor(3.1483), tensor(2.9629), tensor(2.7431), tensor(2.9287), tensor(3.0933), tensor(4.0349), tensor(3.2502), tensor(3.2549), tensor(3.5560), tensor(3.1096), tensor(2.5116), tensor(3.4352), tensor(2.8292), tensor(2.8691), tensor(3.2463), tensor(2.7715), tensor(2.9469), tensor(3.0523), tensor(3.0366), tensor(2.9439), tensor(2.4486), tensor(2.9928), tensor(3.2500), tensor(3.0102), tensor(3.1248), tensor(2.8046), tensor(3.8417), tensor(3.0547), tensor(3.0539), tensor(3.1049), tensor(3.3418), tensor(2.4863), tensor(3.2635), tensor(3.0425), tensor(2.5177), tensor(2.8502), tensor(3.1375), tensor(3.0703), tensor(2.6107), tensor(3.0262), tensor(3.0611), tensor(3.2666), tensor(2.3699), tensor(3.5283), tensor(3.4022), tensor(3.3613), tensor(2.7027), tensor(2.7847), tensor(2.7077), tensor(2.9241), tensor(3.2410), tensor(3.1399), tensor(2.7892), tensor(2.9744), tensor(3.0234), tensor(2.7339), tensor(3.2177), tensor(3.0953), tensor(3.0130), tensor(3.2542), tensor(3.0028), tensor(2.6709), tensor(3.3819), tensor(3.8239), tensor(3.1316), tensor(3.1766), tensor(3.1690), tensor(3.1580), tensor(3.3149), tensor(3.4482), tensor(3.2081), tensor(2.6229), tensor(3.3397), tensor(3.0095), tensor(3.8240), tensor(3.1592), tensor(3.5545), tensor(2.7464), tensor(2.9940)]\n",
      "[tensor(4.0349), tensor(3.9614), tensor(3.6157), tensor(3.6075), tensor(3.5935), tensor(3.5560), tensor(3.3294), tensor(3.3020), tensor(3.2549), tensor(3.2502), tensor(3.1955), tensor(3.1550), tensor(3.1514), tensor(3.1483), tensor(3.1096), tensor(3.0933), tensor(3.0021), tensor(2.9942), tensor(2.9674), tensor(2.9629), tensor(2.9522), tensor(2.9383), tensor(2.9287), tensor(2.9193), tensor(2.8161), tensor(2.8122), tensor(2.7431), tensor(2.6725), tensor(2.6238), tensor(2.5116), tensor(2.5085), tensor(2.4104), tensor(3.4352), tensor(2.8292), tensor(2.8691), tensor(3.2463), tensor(2.7715), tensor(2.9469), tensor(3.0523), tensor(3.0366), tensor(2.9439), tensor(2.4486), tensor(2.9928), tensor(3.2500), tensor(3.0102), tensor(3.1248), tensor(2.8046), tensor(3.8417), tensor(3.0547), tensor(3.0539), tensor(3.1049), tensor(3.3418), tensor(2.4863), tensor(3.2635), tensor(3.0425), tensor(2.5177), tensor(2.8502), tensor(3.1375), tensor(3.0703), tensor(2.6107), tensor(3.0262), tensor(3.0611), tensor(3.2666), tensor(2.3699), tensor(3.5283), tensor(3.4022), tensor(3.3613), tensor(2.7027), tensor(2.7847), tensor(2.7077), tensor(2.9241), tensor(3.2410), tensor(3.1399), tensor(2.7892), tensor(2.9744), tensor(3.0234), tensor(2.7339), tensor(3.2177), tensor(3.0953), tensor(3.0130), tensor(3.2542), tensor(3.0028), tensor(2.6709), tensor(3.3819), tensor(3.8239), tensor(3.1316), tensor(3.1766), tensor(3.1690), tensor(3.1580), tensor(3.3149), tensor(3.4482), tensor(3.2081), tensor(2.6229), tensor(3.3397), tensor(3.0095), tensor(3.8240), tensor(3.1592), tensor(3.5545), tensor(2.7464), tensor(2.9940)]\n",
      "tenure_group_Tenure_1 tensor(4.0349)\n",
      "OnlineSecurity tensor(3.9614)\n",
      "InternetService_No tensor(3.6157)\n",
      "Partner tensor(3.6075)\n",
      "Contract_One year tensor(3.5935)\n",
      "tenure_group_Tenure_4 tensor(3.5560)\n",
      "PaperlessBilling tensor(3.3294)\n",
      "TechSupport tensor(3.3020)\n",
      "tenure_group_Tenure_3 tensor(3.2549)\n",
      "tenure_group_Tenure_2 tensor(3.2502)\n",
      "tenure tensor(3.1955)\n",
      "PhoneService tensor(3.1550)\n",
      "InternetService_Fiber optic tensor(3.1514)\n",
      "Contract_Two year tensor(3.1483)\n",
      "tenure_group_Tenure_5 tensor(3.1096)\n",
      "PaymentMethod_Mailed check tensor(3.0933)\n",
      "SeniorCitizen tensor(3.0021)\n",
      "Dependents tensor(2.9942)\n",
      "StreamingMovies tensor(2.9674)\n",
      "PaymentMethod_Bank transfer (automatic) tensor(2.9629)\n",
      "TotalCharges tensor(2.9522)\n",
      "MultipleLines tensor(2.9383)\n",
      "PaymentMethod_Electronic check tensor(2.9287)\n",
      "DeviceProtection tensor(2.9193)\n",
      "Contract_Month-to-month tensor(2.8161)\n",
      "OnlineBackup tensor(2.8122)\n",
      "PaymentMethod_Credit card (automatic) tensor(2.7431)\n",
      "InternetService_DSL tensor(2.6725)\n",
      "StreamingTV tensor(2.6238)\n",
      "tenure_group_Tenure_over_5 tensor(2.5116)\n",
      "gender tensor(2.5085)\n",
      "MonthlyCharges tensor(2.4104)\n"
     ]
    }
   ],
   "source": [
    "# 神经网络给出的重要性特征的探索\n",
    "X_data_headers = X_data.columns.values.tolist()\n",
    "print(X_data_headers)\n",
    "# 根据权重参数进行排序，我们认为绝对值越的对于最终的结果影响越大，基于这个认知，我们进行下述操作\n",
    "# 将每个特征对应的权重值进行求绝对值运算，然后将这个权重值进行累加，用这个累加后的结果参与排序，作为重要性指标\n",
    "# 获取特征层的权重参数\n",
    "feature_weight = model.state_dict()['fc1.weight']\n",
    "abs_feature_weight = torch.abs(feature_weight)\n",
    "sum_abs_feature_weight = list(abs_feature_weight.sum(dim=1))\n",
    "print(sum_abs_feature_weight)\n",
    "\n",
    "\n",
    "for i in range(len(X_data_headers)):\n",
    "    for j in range(0, len(X_data_headers) - i - 1):\n",
    "        if sum_abs_feature_weight[j] < sum_abs_feature_weight[j + 1]:\n",
    "            X_data_headers[j], X_data_headers[j + 1] = X_data_headers[j + 1], X_data_headers[j]\n",
    "            sum_abs_feature_weight[j], sum_abs_feature_weight[j + 1] = sum_abs_feature_weight[j + 1], sum_abs_feature_weight[j]\n",
    "\n",
    "print(sum_abs_feature_weight)\n",
    "for i in range(len(X_data_headers)):\n",
    "    print(X_data_headers[i], sum_abs_feature_weight[i])"
   ]
  },
  {
   "cell_type": "markdown",
   "id": "3adba016",
   "metadata": {},
   "source": [
    "# Cross Validation"
   ]
  },
  {
   "cell_type": "code",
   "execution_count": null,
   "id": "67ffacc3",
   "metadata": {},
   "outputs": [],
   "source": [
    "from sklearn.model_selection import cross_val_score\n",
    "from sklearn.linear_model import LogisticRegression\n",
    "\n",
    "model = LogisticRegression()\n",
    "result = cross_val_score(model , X , y , cv=kfold)\n",
    "mean_result = np.mean(result)\n",
    "\n",
    "\n",
    "\n",
    "\n",
    "train_data = pd.read_csv(\"E:/competitions/kaggle/House Price/train.csv\")\n",
    "X = pd.DataFrame(train_data[\"GrLivArea\"].fillna(0))\n",
    "y = train_data[\"SalePrice\"]\n",
    "score = []\n",
    "alphas = []\n",
    "for alpha in range(1,100,1):\n",
    "    alphas.append(alpha)\n",
    "    rdg = KNeighborsRegressor(alpha)\n",
    "    sc = np.sqrt( -cross_val_score(rdg,X,y,scoring = \"neg_mean_squared_error\", cv = 10))\n",
    "    score.append(sc.mean())\n",
    "plt.plot(alphas,score)\n",
    "plt.show()\n",
    "\n",
    "\n",
    "# k 折交叉验证（k-fold cross validation）\n",
    "\n",
    "from sklearn.model_selection import cross_val_score\n",
    "\n",
    "clf = svm.SVC(kernel='linear', C=1)\n",
    "\n",
    "scores = cross_val_score(clf, iris.data, iris.target, cv=5)\n",
    "\n",
    "print(\"scores:\",scores)\n",
    "\n",
    "print(\"Accuracy: %0.2f (+/- %0.2f)\" % (scores.mean(), scores.std() * 2))\n",
    "\n",
    "print(\"\\n\")"
   ]
  },
  {
   "cell_type": "markdown",
   "id": "dc9d415c",
   "metadata": {},
   "source": [
    "# 集成不稳定的模型"
   ]
  },
  {
   "cell_type": "markdown",
   "id": "356d7fce",
   "metadata": {},
   "source": [
    "\n",
    "# 进行上采样"
   ]
  },
  {
   "cell_type": "markdown",
   "id": "bb189b25",
   "metadata": {},
   "source": [
    "# 特征提取优化 "
   ]
  },
  {
   "cell_type": "markdown",
   "id": "4f080bfb",
   "metadata": {},
   "source": []
  }
 ],
 "metadata": {
  "kernelspec": {
   "display_name": "Python 3 (ipykernel)",
   "language": "python",
   "name": "python3"
  },
  "language_info": {
   "codemirror_mode": {
    "name": "ipython",
    "version": 3
   },
   "file_extension": ".py",
   "mimetype": "text/x-python",
   "name": "python",
   "nbconvert_exporter": "python",
   "pygments_lexer": "ipython3",
   "version": "3.9.13"
  }
 },
 "nbformat": 4,
 "nbformat_minor": 5
}
